{
  "cells": [
    {
      "cell_type": "code",
      "execution_count": 1,
      "metadata": {},
      "outputs": [],
      "source": [
        "import networkx as nx\n",
        "%matplotlib inline"
      ]
    },
    {
      "cell_type": "markdown",
      "metadata": {},
      "source": [
        "\n",
        "# 第 2 章\n",
        "\n",
        "目次：\n",
        "\n",
        "1. 経路\n",
        "2. 連結成分\n",
        "3. 有向経路と成分\n",
        "4. データセット: 米国の航空交通ネットワーク\n"
      ]
    },
    {
      "cell_type": "markdown",
      "metadata": {},
      "source": [
        "\n",
        "# 1. 経路\n",
        "\n",
        "とても単純な無向ネットワークから始める。\n"
      ]
    },
    {
      "cell_type": "code",
      "execution_count": 2,
      "metadata": {},
      "outputs": [
        {
          "data": {
            "image/png": "[encoded data removed]",
            "text/plain": [
              "<Figure size 432x288 with 1 Axes>"
            ]
          },
          "metadata": {},
          "output_type": "display_data"
        }
      ],
      "source": [
        "G = nx.Graph()\n",
        "\n",
        "G.add_nodes_from([1,2,3,4])\n",
        "\n",
        "G.add_edges_from([(1,2),(2,3),(1,3),(1,4)])\n",
        "\n",
        "nx.draw(G, with_labels=True)"
      ]
    },
    {
      "cell_type": "markdown",
      "metadata": {},
      "source": [
        "\n",
        "ネットワーク内の*経路*は、2 つのノードを接続する一連のエッジである。この単純な例では、ノード 3 と 4 を接続する経路が実際に少なくとも 1 つあることが明らかである。これは NetworkX のモジュール関数で確認できる。\n"
      ]
    },
    {
      "cell_type": "code",
      "execution_count": 3,
      "metadata": {},
      "outputs": [
        {
          "data": {
            "text/plain": [
              "True"
            ]
          },
          "execution_count": 3,
          "metadata": {},
          "output_type": "execute_result"
        }
      ],
      "source": [
        "nx.has_path(G, 3, 4)"
      ]
    },
    {
      "cell_type": "markdown",
      "metadata": {},
      "source": [
        "\n",
        "2 つのノード間に複数の経路が存在する場合もある。同様にノード 3 と 4 を考慮すると、そのような「単純な」経路が 2 つある。\n"
      ]
    },
    {
      "cell_type": "code",
      "execution_count": 4,
      "metadata": {},
      "outputs": [
        {
          "data": {
            "text/plain": [
              "[[3, 2, 1, 4], [3, 1, 4]]"
            ]
          },
          "execution_count": 4,
          "metadata": {},
          "output_type": "execute_result"
        }
      ],
      "source": [
        "list(nx.all_simple_paths(G, 3, 4))"
      ]
    },
    {
      "cell_type": "markdown",
      "metadata": {},
      "source": [
        "\n",
        "単純な経路とは、サイクルのない経路を指している。サイクルがあれば、必要に応じてサイクルを何回でも周回できるため、無限に多くの経路が存在することになる。\n",
        "\n",
        "多くの場合、ノード間の*最短*経路に最も関心がある。重み無しネットワークでは、最短経路はエッジが最も少ない経路である。ノード 3 と 4 の間の 2 つの単純な経路のうち、一方が他方より短いことがわかる。NetworkX のモジュール関数でこの最短経路を取得できる。\n"
      ]
    },
    {
      "cell_type": "code",
      "execution_count": 5,
      "metadata": {},
      "outputs": [
        {
          "data": {
            "text/plain": [
              "[3, 1, 4]"
            ]
          },
          "execution_count": 5,
          "metadata": {},
          "output_type": "execute_result"
        }
      ],
      "source": [
        "nx.shortest_path(G, 3, 4)"
      ]
    },
    {
      "cell_type": "markdown",
      "metadata": {},
      "source": [
        "\n",
        "経路長だけに注目する関数もある。\n"
      ]
    },
    {
      "cell_type": "code",
      "execution_count": 6,
      "metadata": {},
      "outputs": [
        {
          "data": {
            "text/plain": [
              "2"
            ]
          },
          "execution_count": 6,
          "metadata": {},
          "output_type": "execute_result"
        }
      ],
      "source": [
        "nx.shortest_path_length(G, 3, 4)"
      ]
    },
    {
      "cell_type": "markdown",
      "metadata": {},
      "source": [
        "\n",
        "ここで経路長は、ノード数ではなく、経路の*エッジ*数によって定義されることに注意してほしい。\n",
        "\n",
        "ノード $u$ および $v$ の場合、\n",
        "\n",
        "    nx.shortest_path_length(G, u, v) == len(nx.shortest_path(G, u, v)) - 1\n",
        "\n",
        "は真となる。"
      ]
    },
    {
      "cell_type": "markdown",
      "metadata": {},
      "source": [
        "\n",
        "## 2. 連結成分\n",
        "\n",
        "上記の単純なネットワークでは、*任意*の 2 つのノードごとに接続する経路を見つけることができる。これが、*連結*グラフの定義である。特定のグラフに関してその性質をグラフメゾットで確認できる。\n"
      ]
    },
    {
      "cell_type": "code",
      "execution_count": 7,
      "metadata": {},
      "outputs": [
        {
          "data": {
            "text/plain": [
              "True"
            ]
          },
          "execution_count": 7,
          "metadata": {},
          "output_type": "execute_result"
        }
      ],
      "source": [
        "nx.is_connected(G)"
      ]
    },
    {
      "cell_type": "markdown",
      "metadata": {},
      "source": [
        "\n",
        "連結でないグラフもある。下はその一例である。\n"
      ]
    },
    {
      "cell_type": "code",
      "execution_count": 8,
      "metadata": {},
      "outputs": [
        {
          "data": {
            "image/png": "[encoded data removed]",
            "text/plain": [
              "<Figure size 432x288 with 1 Axes>"
            ]
          },
          "metadata": {},
          "output_type": "display_data"
        }
      ],
      "source": [
        "G = nx.Graph()\n",
        "\n",
        "nx.add_cycle(G, (1,2,3))\n",
        "G.add_edge(4,5)\n",
        "\n",
        "nx.draw(G, with_labels=True)"
      ]
    },
    {
      "cell_type": "code",
      "execution_count": 9,
      "metadata": {},
      "outputs": [
        {
          "data": {
            "text/plain": [
              "False"
            ]
          },
          "execution_count": 9,
          "metadata": {},
          "output_type": "execute_result"
        }
      ],
      "source": [
        "nx.is_connected(G)"
      ]
    },
    {
      "cell_type": "markdown",
      "metadata": {},
      "source": [
        "\n",
        "なお、連結していないノード間の経路を求めようとすると、NetworkX でエラーが発生する。\n"
      ]
    },
    {
      "cell_type": "code",
      "execution_count": 10,
      "metadata": {},
      "outputs": [
        {
          "data": {
            "text/plain": [
              "False"
            ]
          },
          "execution_count": 10,
          "metadata": {},
          "output_type": "execute_result"
        }
      ],
      "source": [
        "nx.has_path(G, 3, 5)"
      ]
    },
    {
      "cell_type": "code",
      "execution_count": 11,
      "metadata": {},
      "outputs": [
        {
          "ename": "NetworkXNoPath",
          "evalue": "No path between 3 and 5.",
          "output_type": "error",
          "traceback": [
            "\u001b[1;31m---------------------------------------------------------------------------\u001b[0m",
            "\u001b[1;31mNetworkXNoPath\u001b[0m                            Traceback (most recent call last)",
            "\u001b[1;32mg:\\Programs\\FirstCourseNetworkScience\\tutorials_ja\\Chapter 2 Tutorial.ipynb 单元格 21\u001b[0m line \u001b[0;36m<cell line: 1>\u001b[1;34m()\u001b[0m\n\u001b[1;32m----> <a href='vscode-notebook-cell:/g%3A/Programs/FirstCourseNetworkScience/tutorials_ja/Chapter%202%20Tutorial.ipynb#X26sZmlsZQ%3D%3D?line=0'>1</a>\u001b[0m nx\u001b[39m.\u001b[39;49mshortest_path(G, \u001b[39m3\u001b[39;49m, \u001b[39m5\u001b[39;49m)\n",
            "File \u001b[1;32mc:\\ProgramData\\Anaconda3\\lib\\site-packages\\networkx\\algorithms\\shortest_paths\\generic.py:165\u001b[0m, in \u001b[0;36mshortest_path\u001b[1;34m(G, source, target, weight, method)\u001b[0m\n\u001b[0;32m    162\u001b[0m \u001b[39melse\u001b[39;00m:\n\u001b[0;32m    163\u001b[0m     \u001b[39m# Find shortest source-target path.\u001b[39;00m\n\u001b[0;32m    164\u001b[0m     \u001b[39mif\u001b[39;00m method \u001b[39m==\u001b[39m \u001b[39m\"\u001b[39m\u001b[39munweighted\u001b[39m\u001b[39m\"\u001b[39m:\n\u001b[1;32m--> 165\u001b[0m         paths \u001b[39m=\u001b[39m nx\u001b[39m.\u001b[39;49mbidirectional_shortest_path(G, source, target)\n\u001b[0;32m    166\u001b[0m     \u001b[39melif\u001b[39;00m method \u001b[39m==\u001b[39m \u001b[39m\"\u001b[39m\u001b[39mdijkstra\u001b[39m\u001b[39m\"\u001b[39m:\n\u001b[0;32m    167\u001b[0m         _, paths \u001b[39m=\u001b[39m nx\u001b[39m.\u001b[39mbidirectional_dijkstra(G, source, target, weight)\n",
            "File \u001b[1;32mc:\\ProgramData\\Anaconda3\\lib\\site-packages\\networkx\\algorithms\\shortest_paths\\unweighted.py:224\u001b[0m, in \u001b[0;36mbidirectional_shortest_path\u001b[1;34m(G, source, target)\u001b[0m\n\u001b[0;32m    221\u001b[0m     \u001b[39mraise\u001b[39;00m nx\u001b[39m.\u001b[39mNodeNotFound(msg)\n\u001b[0;32m    223\u001b[0m \u001b[39m# call helper to do the real work\u001b[39;00m\n\u001b[1;32m--> 224\u001b[0m results \u001b[39m=\u001b[39m _bidirectional_pred_succ(G, source, target)\n\u001b[0;32m    225\u001b[0m pred, succ, w \u001b[39m=\u001b[39m results\n\u001b[0;32m    227\u001b[0m \u001b[39m# build path from pred+w+succ\u001b[39;00m\n",
            "File \u001b[1;32mc:\\ProgramData\\Anaconda3\\lib\\site-packages\\networkx\\algorithms\\shortest_paths\\unweighted.py:292\u001b[0m, in \u001b[0;36m_bidirectional_pred_succ\u001b[1;34m(G, source, target)\u001b[0m\n\u001b[0;32m    289\u001b[0m                 \u001b[39mif\u001b[39;00m w \u001b[39min\u001b[39;00m pred:  \u001b[39m# found path\u001b[39;00m\n\u001b[0;32m    290\u001b[0m                     \u001b[39mreturn\u001b[39;00m pred, succ, w\n\u001b[1;32m--> 292\u001b[0m \u001b[39mraise\u001b[39;00m nx\u001b[39m.\u001b[39mNetworkXNoPath(\u001b[39mf\u001b[39m\u001b[39m\"\u001b[39m\u001b[39mNo path between \u001b[39m\u001b[39m{\u001b[39;00msource\u001b[39m}\u001b[39;00m\u001b[39m and \u001b[39m\u001b[39m{\u001b[39;00mtarget\u001b[39m}\u001b[39;00m\u001b[39m.\u001b[39m\u001b[39m\"\u001b[39m)\n",
            "\u001b[1;31mNetworkXNoPath\u001b[0m: No path between 3 and 5."
          ]
        }
      ],
      "source": [
        "nx.shortest_path(G, 3, 5)"
      ]
    },
    {
      "cell_type": "markdown",
      "metadata": {},
      "source": [
        "\n",
        "このグラフでは、視覚的に 2 つの連結成分を識別できる。これを関数で確認してみよう。\n"
      ]
    },
    {
      "cell_type": "code",
      "execution_count": 12,
      "metadata": {},
      "outputs": [
        {
          "data": {
            "text/plain": [
              "2"
            ]
          },
          "execution_count": 12,
          "metadata": {},
          "output_type": "execute_result"
        }
      ],
      "source": [
        "nx.number_connected_components(G)"
      ]
    },
    {
      "cell_type": "markdown",
      "metadata": {},
      "source": [
        "\n",
        "`nx.connected_components()` 関数はグラフを受け取り、連結成分ごとにセットが１つある、ノード名のセットのシーケンスを返すものである。次のリストの 2 つのセットが、上のグラフの図の 2 つの連結成分に対応していることを確認してみよう。\n"
      ]
    },
    {
      "cell_type": "code",
      "execution_count": 13,
      "metadata": {},
      "outputs": [
        {
          "data": {
            "text/plain": [
              "[{1, 2, 3}, {4, 5}]"
            ]
          },
          "execution_count": 13,
          "metadata": {},
          "output_type": "execute_result"
        }
      ],
      "source": [
        "list(nx.connected_components(G))"
      ]
    },
    {
      "cell_type": "markdown",
      "metadata": {},
      "source": [
        "\n",
        "Python のセットに馴染みがない読者のための補足説明をすると、それは数学の集合と同じく、重複のないアイテムのコレクションである。ノード名は一意でなければならないため、集計の際に役立つ。他のコレクションと同様に、 `len` 関数を使用してセット内のアイテムの数をカウントできる。\n"
      ]
    },
    {
      "cell_type": "code",
      "execution_count": 14,
      "metadata": {},
      "outputs": [
        {
          "data": {
            "text/plain": [
              "3"
            ]
          },
          "execution_count": 14,
          "metadata": {},
          "output_type": "execute_result"
        }
      ],
      "source": [
        "components = list(nx.connected_components(G))\n",
        "len(components[0])"
      ]
    },
    {
      "cell_type": "markdown",
      "metadata": {},
      "source": [
        "\n",
        "ネットワークの*コア*とよばれることもある、最大連結成分に注目することがよくある。最大連結成分を取得するために、Python の組み込み `max` 関数が利用できる。Python の `max` 関数は、デフォルトで辞書順 (アルファベット順) にソートするが、ここでは役に立たない。サイズの順に並べ替えたときに最大連結成分が必要なので、キー引数として `len` を渡す。\n"
      ]
    },
    {
      "cell_type": "code",
      "execution_count": 15,
      "metadata": {},
      "outputs": [
        {
          "data": {
            "text/plain": [
              "{1, 2, 3}"
            ]
          },
          "execution_count": 15,
          "metadata": {},
          "output_type": "execute_result"
        }
      ],
      "source": [
        "max(nx.connected_components(G), key=len)"
      ]
    },
    {
      "cell_type": "markdown",
      "metadata": {},
      "source": [
        "\n",
        "多くの場合、ノード名のリストだけで十分だが、最大連結成分で構成される実際のサブグラフが必要になる場合がある。これを取得する 方法の１つは、ノード名のリストを `G.subgraph()` 関数に渡すことである。\n"
      ]
    },
    {
      "cell_type": "markdown",
      "metadata": {},
      "source": []
    },
    {
      "cell_type": "code",
      "execution_count": 16,
      "metadata": {},
      "outputs": [
        {
          "data": {
            "image/png": "[encoded data removed]",
            "text/plain": [
              "<Figure size 432x288 with 1 Axes>"
            ]
          },
          "metadata": {},
          "output_type": "display_data"
        }
      ],
      "source": [
        "core_nodes = max(nx.connected_components(G), key=len)\n",
        "core = G.subgraph(core_nodes)\n",
        "\n",
        "nx.draw(core, with_labels=True)"
      ]
    },
    {
      "cell_type": "markdown",
      "metadata": {},
      "source": [
        "\n",
        "タブ補完を使用している人は、 `nx.connected_component_subgraphs()` 関数があることにも気付くかもしれない。この関数も、コア部分グラフを取得するために使用できるが、最大連結成分にのみ注目する場合は、前に示した方法の方が効率的である。\n"
      ]
    },
    {
      "cell_type": "markdown",
      "metadata": {},
      "source": [
        "\n",
        "# 3. 有向経路と成分\n",
        "\n",
        "経路と連結成分に関するこれらのアイデアを有向グラフに拡張してみよう。\n",
        "\n"
      ]
    },
    {
      "cell_type": "code",
      "execution_count": 17,
      "metadata": {},
      "outputs": [
        {
          "data": {
            "image/png": "[encoded data removed]",
            "text/plain": [
              "<Figure size 432x288 with 1 Axes>"
            ]
          },
          "metadata": {},
          "output_type": "display_data"
        }
      ],
      "source": [
        "D = nx.DiGraph()\n",
        "D.add_edges_from([\n",
        "    (1,2),\n",
        "    (2,3),\n",
        "    (3,2), (3,4), (3,5),\n",
        "    (4,2), (4,5), (4,6),\n",
        "    (5,6),\n",
        "    (6,4),\n",
        "])\n",
        "nx.draw(D, with_labels=True)"
      ]
    },
    {
      "cell_type": "markdown",
      "metadata": {},
      "source": [
        "\n",
        "### 有向経路\n",
        "\n",
        "有向グラフでは、任意のノード $u$ から任意のノード $v$ へのエッジは、$v$ から $u$ へのエッジが存在することを意味しない。経路は有向グラフのエッジ方向に従わなければならないため、同じ非対称性が経路に適用される。例えば、前に描いたグラフには、1 から 4 への経路がある一方、逆方向にはない。\n"
      ]
    },
    {
      "cell_type": "code",
      "execution_count": 18,
      "metadata": {},
      "outputs": [
        {
          "data": {
            "text/plain": [
              "True"
            ]
          },
          "execution_count": 18,
          "metadata": {},
          "output_type": "execute_result"
        }
      ],
      "source": [
        "nx.has_path(D, 1, 4)"
      ]
    },
    {
      "cell_type": "code",
      "execution_count": 19,
      "metadata": {},
      "outputs": [
        {
          "data": {
            "text/plain": [
              "False"
            ]
          },
          "execution_count": 19,
          "metadata": {},
          "output_type": "execute_result"
        }
      ],
      "source": [
        "nx.has_path(D, 4, 1)"
      ]
    },
    {
      "cell_type": "markdown",
      "metadata": {},
      "source": [
        "\n",
        "経路を扱う他の NetworkX 関数も、この非対称性を考慮している。\n"
      ]
    },
    {
      "cell_type": "code",
      "execution_count": 20,
      "metadata": {},
      "outputs": [
        {
          "data": {
            "text/plain": [
              "[2, 3, 5]"
            ]
          },
          "execution_count": 20,
          "metadata": {},
          "output_type": "execute_result"
        }
      ],
      "source": [
        "nx.shortest_path(D, 2, 5)"
      ]
    },
    {
      "cell_type": "code",
      "execution_count": 21,
      "metadata": {},
      "outputs": [
        {
          "data": {
            "text/plain": [
              "[5, 6, 4, 2]"
            ]
          },
          "execution_count": 21,
          "metadata": {},
          "output_type": "execute_result"
        }
      ],
      "source": [
        "nx.shortest_path(D, 5, 2)"
      ]
    },
    {
      "cell_type": "markdown",
      "metadata": {},
      "source": [
        "\n",
        "5 から 3 へのエッジがないため、5 から 2 への最短経路は 2 から 5 への最短経路を単純にバックトラックすることはできない。ノード 6 と 4 を経由するより長いルートをたどらなければならない。\n"
      ]
    },
    {
      "cell_type": "markdown",
      "metadata": {},
      "source": [
        "\n",
        "### 有向成分\n"
      ]
    },
    {
      "cell_type": "markdown",
      "metadata": {},
      "source": [
        "\n",
        "有向ネットワークには 2 種類の連結性がある。*強連結性*とは、ノードのすべてのペア間に有向経路が存在することを意味する。つまり、エッジの方向性に従って、任意のノードから他のノードに到達することを意味する。一方通行のネットワーク上にある、交通の流れに逆らって運転することはできない車を思い浮かべて欲しい。\n"
      ]
    },
    {
      "cell_type": "code",
      "execution_count": 22,
      "metadata": {},
      "outputs": [
        {
          "data": {
            "text/plain": [
              "False"
            ]
          },
          "execution_count": 22,
          "metadata": {},
          "output_type": "execute_result"
        }
      ],
      "source": [
        "nx.is_strongly_connected(D)"
      ]
    },
    {
      "cell_type": "markdown",
      "metadata": {},
      "source": [
        "\n",
        "*弱連結性*とは、方向に関係なく、ノードのすべてのペア間に経路が存在することを意味する。一方通行のネットワーク上の歩行者について考えてみよう。歩行者は歩道を歩くので、車の進行方向は気にしない。\n"
      ]
    },
    {
      "cell_type": "code",
      "execution_count": 23,
      "metadata": {},
      "outputs": [
        {
          "data": {
            "text/plain": [
              "True"
            ]
          },
          "execution_count": 23,
          "metadata": {},
          "output_type": "execute_result"
        }
      ],
      "source": [
        "nx.is_weakly_connected(D)"
      ]
    },
    {
      "cell_type": "markdown",
      "metadata": {},
      "source": [
        "\n",
        "強連結性を満たすネットワークは必ず弱連結性も満たす。一方で、この例に見られるように、その逆は常に真であるとは限らない。\n",
        "\n",
        "無向グラフの `is_connected` 関数は、有向グラフを指定するとエラーになる。\n"
      ]
    },
    {
      "cell_type": "code",
      "execution_count": null,
      "metadata": {
        "vscode": {
          "languageId": "plaintext"
        }
      },
      "outputs": [
        {
          "ename": "NetworkXNotImplemented",
          "evalue": "not implemented for directed type",
          "output_type": "error",
          "traceback": [
            "\u001b[1;31m---------------------------------------------------------------------------\u001b[0m",
            "\u001b[1;31mNetworkXNotImplemented\u001b[0m                    Traceback (most recent call last)",
            "\u001b[1;32mg:\\Programs\\FirstCourseNetworkScience\\tutorials_ja\\Chapter 2 Tutorial.ipynb 单元格 48\u001b[0m line \u001b[0;36m<cell line: 2>\u001b[1;34m()\u001b[0m\n\u001b[0;32m      <a href='vscode-notebook-cell:/g%3A/Programs/FirstCourseNetworkScience/tutorials_ja/Chapter%202%20Tutorial.ipynb#X65sZmlsZQ%3D%3D?line=0'>1</a>\u001b[0m \u001b[39m# This will raise an error\u001b[39;00m\n\u001b[1;32m----> <a href='vscode-notebook-cell:/g%3A/Programs/FirstCourseNetworkScience/tutorials_ja/Chapter%202%20Tutorial.ipynb#X65sZmlsZQ%3D%3D?line=1'>2</a>\u001b[0m nx\u001b[39m.\u001b[39;49mis_connected(D)\n",
            "File \u001b[1;32m<class 'networkx.utils.decorators.argmap'> compilation 12:3\u001b[0m, in \u001b[0;36margmap_is_connected_9\u001b[1;34m(G)\u001b[0m\n\u001b[0;32m      1\u001b[0m \u001b[39mfrom\u001b[39;00m \u001b[39mcollections\u001b[39;00m \u001b[39mimport\u001b[39;00m defaultdict\n\u001b[0;32m      2\u001b[0m \u001b[39mfrom\u001b[39;00m \u001b[39mos\u001b[39;00m\u001b[39m.\u001b[39;00m\u001b[39mpath\u001b[39;00m \u001b[39mimport\u001b[39;00m splitext\n\u001b[1;32m----> 3\u001b[0m \u001b[39mfrom\u001b[39;00m \u001b[39mcontextlib\u001b[39;00m \u001b[39mimport\u001b[39;00m contextmanager\n\u001b[0;32m      4\u001b[0m \u001b[39mfrom\u001b[39;00m \u001b[39mpathlib\u001b[39;00m \u001b[39mimport\u001b[39;00m Path\n\u001b[0;32m      6\u001b[0m \u001b[39mimport\u001b[39;00m \u001b[39mnetworkx\u001b[39;00m \u001b[39mas\u001b[39;00m \u001b[39mnx\u001b[39;00m\n",
            "File \u001b[1;32mc:\\ProgramData\\Anaconda3\\lib\\site-packages\\networkx\\utils\\decorators.py:86\u001b[0m, in \u001b[0;36mnot_implemented_for.<locals>._not_implemented_for\u001b[1;34m(g)\u001b[0m\n\u001b[0;32m     82\u001b[0m \u001b[39mdef\u001b[39;00m \u001b[39m_not_implemented_for\u001b[39m(g):\n\u001b[0;32m     83\u001b[0m     \u001b[39mif\u001b[39;00m (mval \u001b[39mis\u001b[39;00m \u001b[39mNone\u001b[39;00m \u001b[39mor\u001b[39;00m mval \u001b[39m==\u001b[39m g\u001b[39m.\u001b[39mis_multigraph()) \u001b[39mand\u001b[39;00m (\n\u001b[0;32m     84\u001b[0m         dval \u001b[39mis\u001b[39;00m \u001b[39mNone\u001b[39;00m \u001b[39mor\u001b[39;00m dval \u001b[39m==\u001b[39m g\u001b[39m.\u001b[39mis_directed()\n\u001b[0;32m     85\u001b[0m     ):\n\u001b[1;32m---> 86\u001b[0m         \u001b[39mraise\u001b[39;00m nx\u001b[39m.\u001b[39mNetworkXNotImplemented(errmsg)\n\u001b[0;32m     88\u001b[0m     \u001b[39mreturn\u001b[39;00m g\n",
            "\u001b[1;31mNetworkXNotImplemented\u001b[0m: not implemented for directed type"
          ]
        }
      ],
      "source": [
        "# これはエラーになる\n",
        "nx.is_connected(D)"
      ]
    },
    {
      "cell_type": "markdown",
      "metadata": {},
      "source": [
        "有向グラフのケースでは、 `nx.connected_components` の代わりに `nx.weakly_connected_components` と `nx.strongly_connected_components` を使わなければならない。\n"
      ]
    },
    {
      "cell_type": "code",
      "execution_count": 25,
      "metadata": {},
      "outputs": [
        {
          "data": {
            "text/plain": [
              "[{1, 2, 3, 4, 5, 6}]"
            ]
          },
          "execution_count": 25,
          "metadata": {},
          "output_type": "execute_result"
        }
      ],
      "source": [
        "list(nx.weakly_connected_components(D))"
      ]
    },
    {
      "cell_type": "code",
      "execution_count": 26,
      "metadata": {},
      "outputs": [
        {
          "data": {
            "text/plain": [
              "[{2, 3, 4, 5, 6}, {1}]"
            ]
          },
          "execution_count": 26,
          "metadata": {},
          "output_type": "execute_result"
        }
      ],
      "source": [
        "list(nx.strongly_connected_components(D))"
      ]
    },
    {
      "cell_type": "markdown",
      "metadata": {},
      "source": [
        "\n",
        "## 4. データセット: 米国の航空交通網\n",
        "\n",
        "このリポジトリには、ネットワークのデータセットの例がいくつか含まれており、ここでは米国の航空交通網を取り上げる。\n"
      ]
    },
    {
      "cell_type": "code",
      "execution_count": 27,
      "metadata": {},
      "outputs": [],
      "source": [
        "G = nx.read_graphml('../datasets/openflights/openflights_usa.graphml.gz')"
      ]
    },
    {
      "cell_type": "markdown",
      "metadata": {},
      "source": [
        "\n",
        "このグラフのノードは空港で、 [IATA コード](https://en.wikipedia.org/wiki/List_of_airports_by_IATA_code:_A)で表される。2 つの空港を直接結ぶ定期便がある場合、これら2 つのノードはエッジで接続される。通常、ある地点へのフライトは帰りのフライトがあることを示唆しているため、このグラフは無向であると仮定する。\n",
        "\n",
        "したがって、このグラフには\n",
        "```\n",
        "[('HOM', 'ANC'), ('BGM', 'PHL'), ('BGM', 'IAD'), ...]\n",
        "```\n",
        "ANC (アンカレッジ)、IAD (ワシントン・ダレス)\n",
        "などのエッジがある。\n",
        "\n",
        "これらのノードには、空港に関する情報が含まれた**属性**も付与されている。\n"
      ]
    },
    {
      "cell_type": "code",
      "execution_count": 28,
      "metadata": {},
      "outputs": [
        {
          "data": {
            "text/plain": [
              "{'name': 'Indianapolis International Airport',\n",
              " 'latitude': 39.7173,\n",
              " 'longitude': -86.294403,\n",
              " 'IATA': 'IND'}"
            ]
          },
          "execution_count": 28,
          "metadata": {},
          "output_type": "execute_result"
        }
      ],
      "source": [
        "G.nodes['IND']"
      ]
    },
    {
      "cell_type": "markdown",
      "metadata": {},
      "source": [
        "\n",
        "ノード属性は辞書型で保存されるため、値は次のように個別にアクセスできる。\n"
      ]
    },
    {
      "cell_type": "code",
      "execution_count": 29,
      "metadata": {},
      "outputs": [
        {
          "data": {
            "text/plain": [
              "'Indianapolis International Airport'"
            ]
          },
          "execution_count": 29,
          "metadata": {},
          "output_type": "execute_result"
        }
      ],
      "source": [
        "G.nodes['IND']['name']"
      ]
    },
    {
      "cell_type": "markdown",
      "metadata": {},
      "source": [
        "\n",
        "# 演習 1\n",
        "\n",
        "インディアナポリスとアラスカ州フェアバンクス (FAI) 間の直行便があるか否かを判別するプログラムを作成せよ。ただし、直行便とは、経由地のない航路を意味する。\n"
      ]
    },
    {
      "cell_type": "code",
      "execution_count": null,
      "metadata": {},
      "outputs": [],
      "source": []
    },
    {
      "cell_type": "markdown",
      "metadata": {},
      "source": [
        "\n",
        "# 演習 2\n",
        "\n",
        "インディアナポリスからアラスカ州フェアバンクスまで飛行機で移動する場合、フライト数が最も少ない経路を探るプログラムを作成せよ。\n"
      ]
    },
    {
      "cell_type": "code",
      "execution_count": null,
      "metadata": {},
      "outputs": [],
      "source": []
    },
    {
      "cell_type": "markdown",
      "metadata": {},
      "source": [
        "\n",
        "# 演習 3\n",
        "\n",
        "米国内では、どの空港からどの空港へも、場合によっては乗り継ぎ便を使用して、移動することは可能か？言い換えると、すべての空港のペア間のに経路が存在するか？\n"
      ]
    },
    {
      "cell_type": "code",
      "execution_count": null,
      "metadata": {},
      "outputs": [],
      "source": []
    }
  ],
  "metadata": {
    "kernelspec": {
      "display_name": "base",
      "language": "python",
      "name": "python3"
    },
    "language_info": {
      "codemirror_mode": {
        "name": "ipython",
        "version": 3
      },
      "file_extension": ".py",
      "mimetype": "text/x-python",
      "name": "python",
      "nbconvert_exporter": "python",
      "pygments_lexer": "ipython3",
      "version": "3.9.12"
    }
  },
  "nbformat": 4,
  "nbformat_minor": 1
}
