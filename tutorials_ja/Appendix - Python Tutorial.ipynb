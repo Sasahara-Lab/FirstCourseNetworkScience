{
 "cells": [
  {
   "cell_type": "markdown",
   "metadata": {},
   "source": [
    "# 付録: Python チュートリアル\n",
    "\n",
<<<<<<< HEAD
    "このオプションのチュートリアルでは、教科書の例題やチュートリアルで使用されているPython言語とJupyter Notebookの特徴について説明する。特に、データ分析のワークフローにおいて最も重要となるデータ型や、これらの使用事例で使用される一般的な慣例やパターンに注目する。この付録は、とりわけPython以外のプログラミング言語の経験が豊富な読者の役に立つだろう。\n",
=======
    "このオプションのチュートリアルでは，教科書の例やチュートリアルで使用されているPython言語とJupyter Notebookの機能を紹介する．データ分析ワークフローで使用される最も重要なデータ型や，これらのユースケースで使用される一般的なイディオムやパターンに特に注目している．この付録は，Python以外のプログラミング言語の経験が豊富な読者に特に役立つかもしれない．\n",
>>>>>>> b4529e87130a146f0b9ab6addabd572f78cdfd20
    "\n",
    "目次:\n",
    "\n",
    "1. [Jupyter Notebook](#1.-Jupyter-Notebook)\n",
    "2. [条件文](#2.-Conditionals) \n",
    "3. [リスト](#3.-Lists)\n",
    "4. [ループ](#4.-Loops)\n",
    "5. [タプル](#5.-Tuples) \n",
    "6. [辞書](#6.-Dictionaries)\n",
    "7. [データ型の組み合わせ](#7.-Combining-Data-Types)"
   ]
  },
  {
   "cell_type": "markdown",
   "metadata": {},
   "source": [
    "# 1. Jupyter Notebook\n",
    "\n",
<<<<<<< HEAD
    "Pythonに詳しくても、Jupyter Notebookは使ったことがないという人がいるかもしれない。Jupyter Notebookの主な考え方は、同一環境内にテキストとコードを混在させることができ、そのコードが「セル」の中で実行されるというものである。セルをクリックしてShift + Enterを押すと、そのセルが実行され、次のセルに移動する。Ctrl + Enterの場合は、そのセルは実行されるが、次のセルには移動しない。「Cell」メニューにあるさまざまなオプションを使って、一度に多くのセルを実行できる。\n",
    "\n",
    "次のセルのコードを実行し、セルの下に出力が表示されることを確認しよう。"
=======
    "Pythonに精通していても，これまでJupyter Notebookを使ったことがないかもしれない．Jupyter Notebookの主な考え方は，テキストとコードを混在させることができ，コードが「セル」で実行されることである．セルをクリックしてShift + Enterを押すと，セルが実行され，次のセルに移動する．Ctrl + Enterを押すと，セルは実行されるが，次のセルに移動しない．「Cell」メニューの異なるオプションを使用すると，一度に多くのセルを実行できる．\n",
    "\n",
    "次のセルのコードを実行し，セルの下に出力が印刷されることを確認されたい．"
>>>>>>> b4529e87130a146f0b9ab6addabd572f78cdfd20
   ]
  },
  {
   "cell_type": "code",
   "execution_count": 1,
   "metadata": {},
   "outputs": [
    {
     "name": "stdout",
     "output_type": "stream",
     "text": [
      "Hello from Jupyter\n"
     ]
    }
   ],
   "source": [
    "print('Hello from Jupyter')"
   ]
  },
  {
   "cell_type": "markdown",
   "metadata": {},
   "source": [
    "## 1.1 変数の出力と検査\n",
    "\n",
<<<<<<< HEAD
    "Jupyter Notebookでは、変数を検査するために2通りの方法がある。このような場合にも、Pythonの`print()`関数が役に立つだろう。"
=======
    "Jupyter notebookでは，変数を検査するために2つの異なる方法がある．Pythonの`print()`関数は，いつものように便利である:"
>>>>>>> b4529e87130a146f0b9ab6addabd572f78cdfd20
   ]
  },
  {
   "cell_type": "code",
   "execution_count": 2,
   "metadata": {},
   "outputs": [
    {
     "name": "stdout",
     "output_type": "stream",
     "text": [
      "Hello\n",
      "16\n"
     ]
    }
   ],
   "source": [
    "my_str = 'Hello'\n",
    "my_int = 16\n",
    "\n",
    "print(my_str)\n",
    "print(my_int)"
   ]
  },
  {
   "cell_type": "markdown",
   "metadata": {},
   "source": [
    "変数の名前を指定してセルを実行することもできる:"
   ]
  },
  {
   "cell_type": "code",
   "execution_count": 3,
   "metadata": {},
   "outputs": [
    {
     "data": {
      "text/plain": [
       "'Hello'"
      ]
     },
     "execution_count": 3,
     "metadata": {},
     "output_type": "execute_result"
    }
   ],
   "source": [
    "my_str"
   ]
  },
  {
   "cell_type": "markdown",
   "metadata": {},
   "source": [
<<<<<<< HEAD
    "この2つの方法の大きな違いは、`print()`文はセルごとに複数の要素を出力できるのに対し、後者の方法だと最後に指定された変数しか表示されない。実際に見てみよう。"
=======
    "ここでの2つのアプローチの大きな違いは，`print()`文は1つのセルで複数のアイテムを出力できるのに対し，後者のアプローチでは名前が付けられた最後の変数しか表示されないことである．次のように観察されたい:"
>>>>>>> b4529e87130a146f0b9ab6addabd572f78cdfd20
   ]
  },
  {
   "cell_type": "code",
   "execution_count": 4,
   "metadata": {},
   "outputs": [
    {
     "data": {
      "text/plain": [
       "16"
      ]
     },
     "execution_count": 4,
     "metadata": {},
     "output_type": "execute_result"
    }
   ],
   "source": [
    "my_str\n",
    "my_int"
   ]
  },
  {
   "cell_type": "markdown",
   "metadata": {},
   "source": [
    "`print()`を使った最初の例とは対照的に，これは最後の値だけを出力する．"
   ]
  },
  {
   "cell_type": "markdown",
   "metadata": {},
   "source": [
<<<<<<< HEAD
    "## 注意事項\n",
    "このノートブック形式で情報を提示する主な利点の1つは、コードセルを変更して再実行し、出力がどのように変化するかを確認できることである。恐れずに実験してもらいたい!"
=======
    "## Nota Bene\n",
    "このノートブック形式で情報を提示する主な利点の1つは，コードセルを変更して再実行し，出力がどのように変化するかを確認できることである．実験を恐れないでいただきたい!"
>>>>>>> b4529e87130a146f0b9ab6addabd572f78cdfd20
   ]
  },
  {
   "cell_type": "markdown",
   "metadata": {},
   "source": [
    "# 2. 条件文\n",
    "\n",
<<<<<<< HEAD
    "\"条件法\"とは、if文のしゃれた言い回しである。プログラミングの経験があるなら、if-then-else構文をご存知だろう。Pythonでは次のようにする。"
=======
    "\"条件分岐\"とは，if文のことである．これまでにプログラミングを行ったことがある人なら，if-then-else構文を知っているはずである．Pythonでは次のように行う:"
>>>>>>> b4529e87130a146f0b9ab6addabd572f78cdfd20
   ]
  },
  {
   "cell_type": "code",
   "execution_count": 5,
   "metadata": {},
   "outputs": [
    {
     "name": "stdout",
     "output_type": "stream",
     "text": [
      "You have many apples!\n"
     ]
    }
   ],
   "source": [
    "number_of_apples = 5\n",
    "\n",
    "if number_of_apples < 1:\n",
    "    print('You have no apples')\n",
    "elif number_of_apples == 1:\n",
    "    print('You have one apple')\n",
    "elif number_of_apples < 4:\n",
    "    print('You have a few apples')\n",
    "else:\n",
    "    print('You have many apples!')"
   ]
  },
  {
   "cell_type": "markdown",
   "metadata": {},
   "source": [
<<<<<<< HEAD
    "上記と異なる出力を得るには、`number_of_apples`を変更して、直前のセルを再実行する。"
=======
    "`number_of_apples`を変更して前のセルを再実行すると，さまざまな出力を得ることができる．"
>>>>>>> b4529e87130a146f0b9ab6addabd572f78cdfd20
   ]
  },
  {
   "cell_type": "markdown",
   "metadata": {},
   "source": [
    "# 3. リスト\n",
    "\n",
<<<<<<< HEAD
    "Pythonの最も汎用的でどこでも使うことができるデータ型の1つがリスト([Python documentation](https://docs.python.org/3/library/stdtypes.html#list))である。これは、**一意でない**要素の、**順序付き**、かつ**可変なコレクション**である。 \n",
=======
    "Pythonで最も汎用性が高く，よく使われるデータ型の1つはリスト([Python documentation](https://docs.python.org/3/library/stdtypes.html#list))である．これは，**順序付けられた**，**ミュータブルな**，**非ユニークな**アイテムの**コレクション**である． \n",
>>>>>>> b4529e87130a146f0b9ab6addabd572f78cdfd20
    "\n",
    "## 3.1 順序付き\n",
    "\n",
<<<<<<< HEAD
    "*順序付き*とは、コレクション中の*インデックス*によって要素が指定されることを意味する。"
=======
    "*順序付けられている*とは，アイテムがコレクション内の*インデックス*で参照されることを意味する:"
>>>>>>> b4529e87130a146f0b9ab6addabd572f78cdfd20
   ]
  },
  {
   "cell_type": "code",
   "execution_count": 6,
   "metadata": {},
   "outputs": [
    {
     "data": {
      "text/plain": [
       "'Bob'"
      ]
     },
     "execution_count": 6,
     "metadata": {},
     "output_type": "execute_result"
    }
   ],
   "source": [
    "student_names = ['Alice', 'Bob', 'Carol', 'Dave']\n",
    "student_names[1]"
   ]
  },
  {
   "cell_type": "markdown",
   "metadata": {},
   "source": [
<<<<<<< HEAD
    "Pythonのインデックスは0から始まるので、リストの先頭のインデックスは0となる。"
=======
    "Pythonのインデックスは0から始まるので，リストの先頭のインデックスは0である:"
>>>>>>> b4529e87130a146f0b9ab6addabd572f78cdfd20
   ]
  },
  {
   "cell_type": "code",
   "execution_count": 7,
   "metadata": {
    "scrolled": true
   },
   "outputs": [
    {
     "data": {
      "text/plain": [
       "'Alice'"
      ]
     },
     "execution_count": 7,
     "metadata": {},
     "output_type": "execute_result"
    }
   ],
   "source": [
    "student_names[0]"
   ]
  },
  {
   "cell_type": "markdown",
   "metadata": {},
   "source": [
<<<<<<< HEAD
    "負のインデックスを使うと、リストの最後の要素を取得することができる:"
=======
    "マイナスのインデックスを使うと，リストの最後の要素を取得できる:"
>>>>>>> b4529e87130a146f0b9ab6addabd572f78cdfd20
   ]
  },
  {
   "cell_type": "code",
   "execution_count": 8,
   "metadata": {},
   "outputs": [
    {
     "data": {
      "text/plain": [
       "'Dave'"
      ]
     },
     "execution_count": 8,
     "metadata": {},
     "output_type": "execute_result"
    }
   ],
   "source": [
    "student_names[-1]"
   ]
  },
  {
   "cell_type": "markdown",
   "metadata": {},
   "source": [
    "リスト要素の部分集合を取得するためにリストを*スライス*することもできる。"
   ]
  },
  {
   "cell_type": "code",
   "execution_count": 9,
   "metadata": {},
   "outputs": [
    {
     "data": {
      "text/plain": [
       "['Alice', 'Bob']"
      ]
     },
     "execution_count": 9,
     "metadata": {},
     "output_type": "execute_result"
    }
   ],
   "source": [
    "student_names[0:2]"
   ]
  },
  {
   "cell_type": "code",
   "execution_count": 10,
   "metadata": {},
   "outputs": [
    {
     "data": {
      "text/plain": [
       "['Bob', 'Carol']"
      ]
     },
     "execution_count": 10,
     "metadata": {},
     "output_type": "execute_result"
    }
   ],
   "source": [
    "student_names[1:3]"
   ]
  },
  {
   "cell_type": "markdown",
   "metadata": {},
   "source": [
<<<<<<< HEAD
    "リストの先頭から、あるいはリストの末尾に向かってスライスする場合、インデックスを省くことができる。"
=======
    "リストの先頭からスライスする場合，またはリストの末尾までスライスする場合は，インデックスを省略できる:"
>>>>>>> b4529e87130a146f0b9ab6addabd572f78cdfd20
   ]
  },
  {
   "cell_type": "code",
   "execution_count": 11,
   "metadata": {},
   "outputs": [
    {
     "data": {
      "text/plain": [
       "['Alice', 'Bob']"
      ]
     },
     "execution_count": 11,
     "metadata": {},
     "output_type": "execute_result"
    }
   ],
   "source": [
    "student_names[:2]"
   ]
  },
  {
   "cell_type": "code",
   "execution_count": 12,
   "metadata": {},
   "outputs": [
    {
     "data": {
      "text/plain": [
       "['Carol', 'Dave']"
      ]
     },
     "execution_count": 12,
     "metadata": {},
     "output_type": "execute_result"
    }
   ],
   "source": [
    "student_names[2:]"
   ]
  },
  {
   "cell_type": "markdown",
   "metadata": {},
   "source": [
    "## 3.2 可変\n",
    "\n",
<<<<<<< HEAD
    "*可変*（mutable）とは、要素を追加したり削除したりすることで、リストを変更できることを意味している。通常、`.append()`を使ってリストの最後にアイテムを追加する。"
=======
    "*ミュータブル*とは，リストにアイテムを追加したり削除したりすることで変更できることを意味する．アイテムを追加するには，リストの末尾に`.append()`を使うのが一般的である:"
>>>>>>> b4529e87130a146f0b9ab6addabd572f78cdfd20
   ]
  },
  {
   "cell_type": "code",
   "execution_count": 13,
   "metadata": {},
   "outputs": [
    {
     "data": {
      "text/plain": [
       "['Alice', 'Bob', 'Carol', 'Dave', 'Esther']"
      ]
     },
     "execution_count": 13,
     "metadata": {},
     "output_type": "execute_result"
    }
   ],
   "source": [
    "student_names.append('Esther')\n",
    "student_names"
   ]
  },
  {
   "cell_type": "markdown",
   "metadata": {},
   "source": [
<<<<<<< HEAD
    "`.insert()`を使うと、任意のインデックスにアイテムを追加することもできる。"
=======
    "しかし，`.insert()`を使って任意のインデックスにアイテムを追加することもできる:"
>>>>>>> b4529e87130a146f0b9ab6addabd572f78cdfd20
   ]
  },
  {
   "cell_type": "code",
   "execution_count": 14,
   "metadata": {},
   "outputs": [
    {
     "data": {
      "text/plain": [
       "['Alice', 'Bob', 'Xavier', 'Carol', 'Dave', 'Esther']"
      ]
     },
     "execution_count": 14,
     "metadata": {},
     "output_type": "execute_result"
    }
   ],
   "source": [
    "student_names.insert(2, 'Xavier')\n",
    "student_names"
   ]
  },
  {
   "cell_type": "markdown",
   "metadata": {},
   "source": [
    "`del`キーワードを使うと要素を削除することができる。"
   ]
  },
  {
   "cell_type": "code",
   "execution_count": 15,
   "metadata": {},
   "outputs": [
    {
     "data": {
      "text/plain": [
       "['Alice', 'Bob', 'Carol', 'Dave', 'Esther']"
      ]
     },
     "execution_count": 15,
     "metadata": {},
     "output_type": "execute_result"
    }
   ],
   "source": [
    "del student_names[2]\n",
    "student_names"
   ]
  },
  {
   "cell_type": "markdown",
   "metadata": {},
   "source": [
    "## 3.3 一意でない\n",
    "同じ名前をリストに繰り返し追加することができる。"
   ]
  },
  {
   "cell_type": "code",
   "execution_count": 16,
   "metadata": {},
   "outputs": [
    {
     "data": {
      "text/plain": [
       "['Alice', 'Bob', 'Carol', 'Dave', 'Esther', 'Esther', 'Esther']"
      ]
     },
     "execution_count": 16,
     "metadata": {},
     "output_type": "execute_result"
    }
   ],
   "source": [
    "student_names.append('Esther')\n",
    "student_names.append('Esther')\n",
    "student_names"
   ]
  },
  {
   "cell_type": "markdown",
   "metadata": {},
   "source": [
<<<<<<< HEAD
    "もし一意性が保証されたコレクションが必要な場合は、集合（[sets](https://docs.python.org/3/library/stdtypes.html#set)）または辞書（[dictionaries](https://docs.python.org/3/library/stdtypes.html#dict)）の方が向いている。\n",
    "\n",
    "## 3.4 コレクション\n",
    "\n",
    "*コレクション*とは、複数の値から構成されるデータ型のことである。リストはコレクションの一種であるが、その他にもタプル、集合、辞書などがある。\n",
    "\n",
    "リストを含む変数に名前を付ける場合、前の例にあった`student_names`のように、複数形の名詞を使用するという命名規則を使うとわかりやすくなる。これとは対照的に、単一の値をもつ変数には、最初の節の`my_str`のように単数系の名詞を使うべきである。これは、あなた自身やあなたのコードを読む人が、どの変数がコレクションで、どれが単一の要素であるかを区別するのに役に立ち、次節で示すように、ループを書くときにも役に立つ。"
=======
    "一意性が強制されたコレクションが必要な場合は，[sets](https://docs.python.org/3/library/stdtypes.html#set)または[dictionaries](https://docs.python.org/3/library/stdtypes.html#dict)を使うべきである．\n",
    "\n",
    "## 3.4 コレクション\n",
    "\n",
    "コレクションとは，複数の値で構成されるデータ型のことを指す．リストはコレクションの一種であるが，タプル，セット，辞書などもある．\n",
    "\n",
    "リストを含む変数に名前を付けるときは，複数形の名詞を使用する必要がある．例えば，前の例の`student_names`である．対照的に，単一の値には単数形の名詞を使用する必要がある．例えば，最初のセクションの`my_str`などである．これにより，変数がコレクションであるか単一のアイテムであるかを，あなたやコードを読む他の人が簡単に判断でき，次のセクションに示すようにループを書くときにも役立つ．"
>>>>>>> b4529e87130a146f0b9ab6addabd572f78cdfd20
   ]
  },
  {
   "cell_type": "markdown",
   "metadata": {},
   "source": [
    "# 4. ループ\n",
    "\n",
<<<<<<< HEAD
    "もし他のプログラミング言語を学んだ経験があれば、おそらく複数の種類のループをご存知だろう。Pythonでは、特にループの一種であるfor文に注目する。for文によるループは、コレクションに含まれる要素を繰り返して、それぞれの要素に対してコードを実行する。"
=======
    "他のプログラミング言語から来た人なら，1種類以上のループを知っているであろう．Pythonでは，特にfor-loopに焦点を当てている．for-loopは，アイテムのコレクションを反復処理し，各アイテムに対してそのコードを実行する:"
>>>>>>> b4529e87130a146f0b9ab6addabd572f78cdfd20
   ]
  },
  {
   "cell_type": "code",
   "execution_count": 17,
   "metadata": {},
   "outputs": [
    {
     "name": "stdout",
     "output_type": "stream",
     "text": [
      "Hello Alice!\n",
      "Hello Bob!\n",
      "Hello Carol!\n",
      "Hello Dave!\n"
     ]
    }
   ],
   "source": [
    "student_names = ['Alice', 'Bob', 'Carol', 'Dave']\n",
    "\n",
    "for student_name in student_names:\n",
    "    print('Hello ' + student_name + '!')"
   ]
  },
  {
   "cell_type": "markdown",
   "metadata": {},
   "source": [
    "## 4.1 命名規則\n",
    "\n",
    "for文で使われている命名規則に注目しよう。\n",
    "\n",
    "    for student_name in student_names:\n",
    "    \n",
<<<<<<< HEAD
    "`student_names`というコレクション名に複数形の名詞を使うことで、コレクションの中の個々の要素に対して`student_name`というふさわしい名前を自動的に付けることができる。本書のチュートリアルでは、どの変数がループ本体の繰り返しの間に値を変更する「ループ変数」であるかが、読者にわかりやすくなるように、可能な限りこの命名規則を使用している。"
=======
    "コレクションに複数形の名詞`student_names`を使用することで，コレクション内の個々のアイテムに良い名前を自動的に付けることができる: `student_name`．本書のチュートリアルでは，可能な限りこの命名規則を使用しており，これにより読者にループ変数の値がループの反復ごとに変化することが明確になる．"
>>>>>>> b4529e87130a146f0b9ab6addabd572f78cdfd20
   ]
  },
  {
   "cell_type": "markdown",
   "metadata": {},
   "source": [
    "## 4.2 ループ，リスト，条件分岐\n",
    "\n",
<<<<<<< HEAD
    "データを扱うときに最もよくあるのが*フィルタリングタスク*である。要するに、このタスクは、ループを使ってコレクション内の各要素を何らかの基準でチェックし、基準を満たした要素を別のコレクションに追加するというものである。\n",
    "\n",
    "次の例では、`student_names`リストから「長い」名前だけのリストを作成する。ここでの長い名前の条件は、4文字より長い名前である。本書のチュートリアルでは、以下のようなコードをしばしば目にしたり、書いたりすることになる。"
=======
    "データを扱う際に非常によくあるタスクの1つは，*フィルタリングタスク*である．抽象的には，このタスクには，あるコレクションをループ処理し，各アイテムがある基準を満たしているかどうかを確認し，基準を満たすアイテムを別のコレクションに追加することが含まれる．\n",
    "\n",
    "次の例では，`student_names`リストから「長い」名前だけのリストを作成する．長い名前とは，4文字以上の名前である．本書のチュートリアルでは，次のようなコードをよく見かける:"
>>>>>>> b4529e87130a146f0b9ab6addabd572f78cdfd20
   ]
  },
  {
   "cell_type": "code",
   "execution_count": 18,
   "metadata": {},
   "outputs": [
    {
     "data": {
      "text/plain": [
       "['Alice', 'Carol']"
      ]
     },
     "execution_count": 18,
     "metadata": {},
     "output_type": "execute_result"
    }
   ],
   "source": [
<<<<<<< HEAD
    "# 空のリストを初期化し、4文字以上の\n",
    "# 学生名を追加\n",
=======
    "# 空のリストを初期化し，4文字以上の\n",
    "# 生徒の名前を追加する\n",
>>>>>>> b4529e87130a146f0b9ab6addabd572f78cdfd20
    "long_names = []\n",
    "for student_name in student_names:\n",
    "    # これが条件\n",
    "    if len(student_name) > 4:\n",
    "        long_names.append(student_name)\n",
    "\n",
    "long_names"
   ]
  },
  {
   "cell_type": "markdown",
   "metadata": {},
   "source": [
    "## 4.3 入れ子になったループ\n",
    "\n",
<<<<<<< HEAD
    "ループは互いに「入れ子」にすることができる。これは、あるコレクションのアイテムを、同じコレクションまたは別のコレクションとマッチングさせたいときによく起こる。ここでは、考えられるすべての学生のペアのリストをつくってみよう。"
=======
    "ループは互いにの中に「ネスト」することができる．これは，あるコレクションのアイテムを同じまたは別のコレクションのアイテムと対応付けたい場合によく発生する．ここでは，考えられる生徒のペアのリストを作成してみよう:"
>>>>>>> b4529e87130a146f0b9ab6addabd572f78cdfd20
   ]
  },
  {
   "cell_type": "code",
   "execution_count": 19,
   "metadata": {},
   "outputs": [
    {
     "data": {
      "text/plain": [
       "[('Alice', 'Alice'),\n",
       " ('Alice', 'Bob'),\n",
       " ('Alice', 'Carol'),\n",
       " ('Alice', 'Dave'),\n",
       " ('Bob', 'Alice'),\n",
       " ('Bob', 'Bob'),\n",
       " ('Bob', 'Carol'),\n",
       " ('Bob', 'Dave'),\n",
       " ('Carol', 'Alice'),\n",
       " ('Carol', 'Bob'),\n",
       " ('Carol', 'Carol'),\n",
       " ('Carol', 'Dave'),\n",
       " ('Dave', 'Alice'),\n",
       " ('Dave', 'Bob'),\n",
       " ('Dave', 'Carol'),\n",
       " ('Dave', 'Dave')]"
      ]
     },
     "execution_count": 19,
     "metadata": {},
     "output_type": "execute_result"
    }
   ],
   "source": [
    "student_names = ['Alice', 'Bob', 'Carol', 'Dave']\n",
    "\n",
    "student_pairs = []\n",
    "for student_name_0 in student_names:\n",
    "    for student_name_1 in student_names:\n",
    "        student_pairs.append(\n",
    "            (student_name_0, student_name_1)\n",
    "        )\n",
    "\n",
    "student_pairs"
   ]
  },
  {
   "cell_type": "markdown",
   "metadata": {},
   "source": [
<<<<<<< HEAD
    "ここで、`student_pairs`というリストに単に名前を追加するのではなく、*タプル* `(student_name_0, student_name_1)`を追加していることである。これはリストの各要素が2つの要素をもつタプルになっていることを意味する。"
=======
    "ここで注目すべきは，`student_pairs`リストに名前を追加するのではなく，*タプル* `(student_name_0, student_name_1)`を追加していることである．つまり，リストの各アイテムは2つのタプルである:"
>>>>>>> b4529e87130a146f0b9ab6addabd572f78cdfd20
   ]
  },
  {
   "cell_type": "code",
   "execution_count": 20,
   "metadata": {},
   "outputs": [
    {
     "data": {
      "text/plain": [
       "('Alice', 'Alice')"
      ]
     },
     "execution_count": 20,
     "metadata": {},
     "output_type": "execute_result"
    }
   ],
   "source": [
    "student_pairs[0]"
   ]
  },
  {
   "cell_type": "markdown",
   "metadata": {},
   "source": [
<<<<<<< HEAD
    "タプルについては次の節で詳しく説明する。注意点の2つ目は、このリストには学生の名前が重複したペアも含まれていることである。仮に、それらを除外したいとする。2番目のfor文によるループにif文を追加することにより、このような重複した部分を*除外*することができる:"
=======
    "次のセクションではタプルについてもっと詳しく説明する．2つ目に注目すべきは，同じ生徒のペアを含めていることである．それらを除外したい場合は，2番目のfor-loopにif文を追加して，それらの繰り返しを*フィルタリング*することができる:"
>>>>>>> b4529e87130a146f0b9ab6addabd572f78cdfd20
   ]
  },
  {
   "cell_type": "code",
   "execution_count": 21,
   "metadata": {},
   "outputs": [
    {
     "data": {
      "text/plain": [
       "[('Alice', 'Bob'),\n",
       " ('Alice', 'Carol'),\n",
       " ('Alice', 'Dave'),\n",
       " ('Bob', 'Alice'),\n",
       " ('Bob', 'Carol'),\n",
       " ('Bob', 'Dave'),\n",
       " ('Carol', 'Alice'),\n",
       " ('Carol', 'Bob'),\n",
       " ('Carol', 'Dave'),\n",
       " ('Dave', 'Alice'),\n",
       " ('Dave', 'Bob'),\n",
       " ('Dave', 'Carol')]"
      ]
     },
     "execution_count": 21,
     "metadata": {},
     "output_type": "execute_result"
    }
   ],
   "source": [
    "student_names = ['Alice', 'Bob', 'Carol', 'Dave']\n",
    "\n",
    "student_pairs = []\n",
    "for student_name_0 in student_names:\n",
    "    for student_name_1 in student_names:\n",
    "        # これが追加した条件\n",
    "        if student_name_0 != student_name_1:\n",
    "            student_pairs.append(\n",
    "                (student_name_0, student_name_1)\n",
    "            )\n",
    "\n",
    "student_pairs"
   ]
  },
  {
   "cell_type": "markdown",
   "metadata": {},
   "source": [
<<<<<<< HEAD
    "これによりこのリストには同じ名前が重複しているペアがなくなる。"
=======
    "そして，リストには重複がない．"
>>>>>>> b4529e87130a146f0b9ab6addabd572f78cdfd20
   ]
  },
  {
   "cell_type": "markdown",
   "metadata": {},
   "source": [
    "# 5. タプル\n",
    "\n",
<<<<<<< HEAD
    "経験豊富なPythonのユーザーでさえ、タプルとリストの違いに戸惑うことが多いため、ある程度の経験があっても、この短い節は必ず読んでほしい。\n",
    "\n",
    "タプル([documentation](https://docs.python.org/3/library/stdtypes.html#tuple))は、表面的にはリストと似ており、一意でない順序付けられた複数の要素で構成されるコレクションである、"
=======
    "経験豊富なPythonユーザーでさえ，タプルとリストの違いに戸惑うことがよくあるので，この短いセクションは必ず読んでいただきたい．\n",
    "\n",
    "タプル([documentation](https://docs.python.org/3/library/stdtypes.html#tuple))は，表面的にはリストと似ていて，順序付けられた非ユニークなアイテムのコレクションである:"
>>>>>>> b4529e87130a146f0b9ab6addabd572f78cdfd20
   ]
  },
  {
   "cell_type": "code",
   "execution_count": 22,
   "metadata": {},
   "outputs": [
    {
     "data": {
      "text/plain": [
       "('Alice', 'Spanish', 'A-')"
      ]
     },
     "execution_count": 22,
     "metadata": {},
     "output_type": "execute_result"
    }
   ],
   "source": [
    "student_grade = ('Alice', 'Spanish', 'A-')\n",
    "student_grade"
   ]
  },
  {
   "cell_type": "code",
   "execution_count": 23,
   "metadata": {},
   "outputs": [
    {
     "data": {
      "text/plain": [
       "'Alice'"
      ]
     },
     "execution_count": 23,
     "metadata": {},
     "output_type": "execute_result"
    }
   ],
   "source": [
    "student_grade[0]"
   ]
  },
  {
   "cell_type": "markdown",
   "metadata": {},
   "source": [
    "## 5.1 不変\n",
    "\n",
<<<<<<< HEAD
    "リストとの大きな違いは、タプルは**不変**(immutable)であるという点ある。以下の各セルは例外を発生させるはずである。"
=======
    "リストとの大きな違いは，タプルは**イミュータブル**であることである．次の各セルは例外を発生させるはずである．"
>>>>>>> b4529e87130a146f0b9ab6addabd572f78cdfd20
   ]
  },
  {
   "cell_type": "code",
   "execution_count": 24,
   "metadata": {
    "tags": [
     "raises-exception"
    ]
   },
   "outputs": [
    {
     "ename": "AttributeError",
     "evalue": "'tuple' object has no attribute 'append'",
     "output_type": "error",
     "traceback": [
      "\u001b[0;31m---------------------------------------------------------------------------\u001b[0m",
      "\u001b[0;31mAttributeError\u001b[0m                            Traceback (most recent call last)",
      "\u001b[0;32m<ipython-input-24-782d93a0b0cf>\u001b[0m in \u001b[0;36m<module>\u001b[0;34m()\u001b[0m\n\u001b[0;32m----> 1\u001b[0;31m \u001b[0mstudent_grade\u001b[0m\u001b[0;34m.\u001b[0m\u001b[0mappend\u001b[0m\u001b[0;34m(\u001b[0m\u001b[0;34m'IU Bloomington'\u001b[0m\u001b[0;34m)\u001b[0m\u001b[0;34m\u001b[0m\u001b[0;34m\u001b[0m\u001b[0m\n\u001b[0m",
      "\u001b[0;31mAttributeError\u001b[0m: 'tuple' object has no attribute 'append'"
     ]
    }
   ],
   "source": [
    "student_grade.append('IU Bloomington')"
   ]
  },
  {
   "cell_type": "code",
   "execution_count": 25,
   "metadata": {
    "tags": [
     "raises-exception"
    ]
   },
   "outputs": [
    {
     "ename": "TypeError",
     "evalue": "'tuple' object doesn't support item deletion",
     "output_type": "error",
     "traceback": [
      "\u001b[0;31m---------------------------------------------------------------------------\u001b[0m",
      "\u001b[0;31mTypeError\u001b[0m                                 Traceback (most recent call last)",
      "\u001b[0;32m<ipython-input-25-f8ded3b186ff>\u001b[0m in \u001b[0;36m<module>\u001b[0;34m()\u001b[0m\n\u001b[0;32m----> 1\u001b[0;31m \u001b[0;32mdel\u001b[0m \u001b[0mstudent_grade\u001b[0m\u001b[0;34m[\u001b[0m\u001b[0;36m2\u001b[0m\u001b[0;34m]\u001b[0m\u001b[0;34m\u001b[0m\u001b[0;34m\u001b[0m\u001b[0m\n\u001b[0m",
      "\u001b[0;31mTypeError\u001b[0m: 'tuple' object doesn't support item deletion"
     ]
    }
   ],
   "source": [
    "del student_grade[2]"
   ]
  },
  {
   "cell_type": "code",
   "execution_count": 26,
   "metadata": {
    "tags": [
     "raises-exception"
    ]
   },
   "outputs": [
    {
     "ename": "TypeError",
     "evalue": "'tuple' object does not support item assignment",
     "output_type": "error",
     "traceback": [
      "\u001b[0;31m---------------------------------------------------------------------------\u001b[0m",
      "\u001b[0;31mTypeError\u001b[0m                                 Traceback (most recent call last)",
      "\u001b[0;32m<ipython-input-26-c9fd9c464431>\u001b[0m in \u001b[0;36m<module>\u001b[0;34m()\u001b[0m\n\u001b[0;32m----> 1\u001b[0;31m \u001b[0mstudent_grade\u001b[0m\u001b[0;34m[\u001b[0m\u001b[0;36m2\u001b[0m\u001b[0;34m]\u001b[0m \u001b[0;34m=\u001b[0m \u001b[0;34m'C'\u001b[0m\u001b[0;34m\u001b[0m\u001b[0;34m\u001b[0m\u001b[0m\n\u001b[0m",
      "\u001b[0;31mTypeError\u001b[0m: 'tuple' object does not support item assignment"
     ]
    }
   ],
   "source": [
    "student_grade[2] = 'C'"
   ]
  },
  {
   "cell_type": "markdown",
   "metadata": {},
   "source": [
<<<<<<< HEAD
    "この不変であるという性質により、**インデックスが問題になる**ようなときには（リストよりも）タプルの方が役立つ。０番目のインデックスは学生の名前、１番目のインデックスは学生の選択科目名、２番目のインデックスはその科目の成績、といった例においては、インデックスの意味が問題になる。タプルに要素を挿入・追加できないということは、例えば科目名が不動であるということを意味している。\n",
    "\n",
    "## 5.2 展開\n",
    "\n",
    "タプルの不変であるという性質は、タプルに格納されている要素を**展開**する際に役立つ。最も単純な場合だと、タプルの展開により以下のような処理が可能になる。"
=======
    "このイミュータビリティにより，タプルはインデックスが重要な場合に便利である．この例では，インデックスはセマンティックに重要である: インデックス0は生徒の名前，インデックス1は科目名，インデックス2は科目の成績である．タプルにアイテムを挿入したり追加したりできないことは，例えば，科目名が別のインデックスに移動しないことを確信できることを意味する．\n",
    "\n",
    "## 5.2 アンパック\n",
    "\n",
    "タプルのイミュータビリティにより，アンパックに便利である．最も単純な形式では，タプルのアンパックにより，次のようなことができる:"
>>>>>>> b4529e87130a146f0b9ab6addabd572f78cdfd20
   ]
  },
  {
   "cell_type": "code",
   "execution_count": 27,
   "metadata": {},
   "outputs": [
    {
     "name": "stdout",
     "output_type": "stream",
     "text": [
      "Alice\n",
      "Spanish\n",
      "A-\n"
     ]
    }
   ],
   "source": [
    "student_grade = ('Alice', 'Spanish', 'A-')\n",
    "student_name, subject, grade = student_grade\n",
    "\n",
    "print(student_name)\n",
    "print(subject)\n",
    "print(grade)"
   ]
  },
  {
   "cell_type": "markdown",
   "metadata": {},
   "source": [
<<<<<<< HEAD
    "単独でも有用であるが、タプルの展開はループと一緒に使うと最も効果的である。以下のように、成績が優秀な学生にをお祝いの言葉を述べるコードを考えてみよう。"
=======
    "それ自体では時々便利であるが，タプルのアンパックはループで使用すると最も便利である．良い成績を取った生徒を祝福するコードを考えてみよう:"
>>>>>>> b4529e87130a146f0b9ab6addabd572f78cdfd20
   ]
  },
  {
   "cell_type": "code",
   "execution_count": 28,
   "metadata": {},
   "outputs": [
    {
     "name": "stdout",
     "output_type": "stream",
     "text": [
      "Congratulations Alice on getting an A in Spanish\n",
      "Congratulations Dave on getting an A- in Italian\n"
     ]
    }
   ],
   "source": [
    "student_grades = [\n",
    "    ('Alice', 'Spanish', 'A'),\n",
    "    ('Bob', 'French', 'C'),\n",
    "    ('Carol', 'Italian', 'B+'),\n",
    "    ('Dave', 'Italian', 'A-'),\n",
    "]\n",
    "\n",
    "for student_name, subject, grade in student_grades:\n",
    "    if grade.startswith('A'):\n",
    "        print('Congratulations', student_name,\n",
    "              'on getting an', grade,\n",
    "              'in', subject)"
   ]
  },
  {
   "cell_type": "markdown",
   "metadata": {},
   "source": [
<<<<<<< HEAD
    "インデックスを使った同じコードと比較してみよう。"
=======
    "これをインデックスを使った同じコードと比較してみよう:"
>>>>>>> b4529e87130a146f0b9ab6addabd572f78cdfd20
   ]
  },
  {
   "cell_type": "code",
   "execution_count": 29,
   "metadata": {},
   "outputs": [
    {
     "name": "stdout",
     "output_type": "stream",
     "text": [
      "Congratulations Alice on getting an A in Spanish\n",
      "Congratulations Dave on getting an A- in Italian\n"
     ]
    }
   ],
   "source": [
    "for student_grade in student_grades:\n",
    "    if student_grade[2].startswith('A'):\n",
    "        print('Congratulations', student_grade[0],\n",
    "              'on getting an', student_grade[2],\n",
    "              'in', student_grade[1])"
   ]
  },
  {
   "cell_type": "markdown",
   "metadata": {},
   "source": [
<<<<<<< HEAD
    "タプルの展開は、インデックスで区別する代わりに、意味のある名前で構造化されたデータを簡単に参照することができる。2番目の例は、機能的には同じだが、書くのが難しく、さらに読みづらいものになっている。"
=======
    "タプルのアンパックを使用すると，インデックスを使うのではなく，セマンティックな名前で構造化されたデータを簡単に参照できる．2番目の例は，機能的には同じであるが，書くのが難しく，読むのはさらに難しい．"
>>>>>>> b4529e87130a146f0b9ab6addabd572f78cdfd20
   ]
  },
  {
   "cell_type": "markdown",
   "metadata": {},
   "source": [
    "# 6. 辞書\n",
    "\n",
<<<<<<< HEAD
    "次のタイプのコレクションは、前の2つとはかなり異なるが、Pythonの最も強力なツールの1つである辞書([documentation](https://docs.python.org/3/library/stdtypes.html#dict))である。辞書は**一意な**要素の**順序無し**かつ**可変な**コレクションである。他のプロラミング言語では、辞書はマップ、マッピング、ハッシュマップ、ハッシュ、または連想配列とよばれている。\n",
    "\n",
    "## 6.1 順序無し\n",
    "\n",
    "順序無しということは、辞書の要素はコレクション中での位置、つまりインデックスによって参照されないことを意味している。その代わり、辞書の要素はキーをもっており、各キーは値と関連付けられている。以下は非常に基本的な例である。"
=======
    "次のタイプのコレクションは，前の2つとはかなり異なるが，Pythonで最も強力なツールの1つである: 辞書(documentation)．辞書は，順不同で，ミュータブルな，ユニークなアイテムのコレクションである．他の言語では，これらはマップ，マッピング，ハッシュマップ，ハッシュ，または連想配列と呼ばれている．\n",
    "\n",
    "## 6.1 順不同\n",
    "\n",
    "順不同とは，辞書のアイテムがコレクション内の位置やインデックスで参照されないことを意味する．代わりに，辞書のアイテムにはキーがあり，各キーには値が関連付けられている．これは非常に基本的な例である:"
>>>>>>> b4529e87130a146f0b9ab6addabd572f78cdfd20
   ]
  },
  {
   "cell_type": "code",
   "execution_count": 30,
   "metadata": {},
   "outputs": [],
   "source": [
    "foreign_languages = {\n",
    "    'Alice': 'Spanish',\n",
    "    'Bob': 'French',\n",
    "    'Carol': 'Italian',\n",
    "    'Dave': 'Italian',\n",
    "}"
   ]
  },
  {
   "cell_type": "markdown",
   "metadata": {},
   "source": [
<<<<<<< HEAD
    "ここでは、学生の名前がキーで、選択科目の言語名が値である。したがって、キャロルの言語を見るには、インデックスの代わりにキーである彼女の名前を使用する。"
=======
    "ここでは，生徒の名前がキーで，生徒の外国語の科目が値になっている．したがって，Carolの外国語を見るには，インデックスではなくキー（彼女の名前）を使う:"
>>>>>>> b4529e87130a146f0b9ab6addabd572f78cdfd20
   ]
  },
  {
   "cell_type": "code",
   "execution_count": 31,
   "metadata": {},
   "outputs": [
    {
     "data": {
      "text/plain": [
       "'Italian'"
      ]
     },
     "execution_count": 31,
     "metadata": {},
     "output_type": "execute_result"
    }
   ],
   "source": [
    "foreign_languages['Carol']"
   ]
  },
  {
   "cell_type": "markdown",
   "metadata": {},
   "source": [
<<<<<<< HEAD
    "辞書の中に存在しないキーの値を取得しようとすると、`KeyError`が発生する。"
=======
    "辞書に存在しないキーの値を取得しようとすると，KeyErrorになる:"
>>>>>>> b4529e87130a146f0b9ab6addabd572f78cdfd20
   ]
  },
  {
   "cell_type": "code",
   "execution_count": 32,
   "metadata": {
    "tags": [
     "raises-exception"
    ]
   },
   "outputs": [
    {
     "ename": "KeyError",
     "evalue": "'Zeke'",
     "output_type": "error",
     "traceback": [
      "\u001b[0;31m---------------------------------------------------------------------------\u001b[0m",
      "\u001b[0;31mKeyError\u001b[0m                                  Traceback (most recent call last)",
      "\u001b[0;32m<ipython-input-32-1ff8fc89736a>\u001b[0m in \u001b[0;36m<module>\u001b[0;34m()\u001b[0m\n\u001b[0;32m----> 1\u001b[0;31m \u001b[0mforeign_languages\u001b[0m\u001b[0;34m[\u001b[0m\u001b[0;34m'Zeke'\u001b[0m\u001b[0;34m]\u001b[0m\u001b[0;34m\u001b[0m\u001b[0;34m\u001b[0m\u001b[0m\n\u001b[0m",
      "\u001b[0;31mKeyError\u001b[0m: 'Zeke'"
     ]
    }
   ],
   "source": [
    "foreign_languages['Zeke']"
   ]
  },
  {
   "cell_type": "markdown",
   "metadata": {},
   "source": [
<<<<<<< HEAD
    "特定のキーが辞書にあるかどうかは、inキーワードで調べることができる。"
=======
    "inキーワードを使って，特定のキーが辞書にあるかどうかを確認できる:"
>>>>>>> b4529e87130a146f0b9ab6addabd572f78cdfd20
   ]
  },
  {
   "cell_type": "code",
   "execution_count": 33,
   "metadata": {},
   "outputs": [
    {
     "data": {
      "text/plain": [
       "False"
      ]
     },
     "execution_count": 33,
     "metadata": {},
     "output_type": "execute_result"
    }
   ],
   "source": [
    "'Zeke' in foreign_languages"
   ]
  },
  {
   "cell_type": "code",
   "execution_count": 34,
   "metadata": {},
   "outputs": [
    {
     "data": {
      "text/plain": [
       "True"
      ]
     },
     "execution_count": 34,
     "metadata": {},
     "output_type": "execute_result"
    }
   ],
   "source": [
    "'Alice' in foreign_languages"
   ]
  },
  {
   "cell_type": "markdown",
   "metadata": {},
   "source": [
<<<<<<< HEAD
    "キーは大文字と小文字が区別されることに注意しよう。"
=======
    "キーは大文字と小文字を区別することに注意されたい:"
>>>>>>> b4529e87130a146f0b9ab6addabd572f78cdfd20
   ]
  },
  {
   "cell_type": "code",
   "execution_count": 35,
   "metadata": {},
   "outputs": [
    {
     "data": {
      "text/plain": [
       "False"
      ]
     },
     "execution_count": 35,
     "metadata": {},
     "output_type": "execute_result"
    }
   ],
   "source": [
    "'alice' in foreign_languages"
   ]
  },
  {
   "cell_type": "markdown",
   "metadata": {},
   "source": [
<<<<<<< HEAD
    "## 6.2 変更可能\n",
    "\n",
    "辞書の要素を追加、削除、および変更することができる。"
=======
    "## 6.2 ミュータブル\n",
    "\n",
    "辞書にはエントリを追加，削除，変更できる:"
>>>>>>> b4529e87130a146f0b9ab6addabd572f78cdfd20
   ]
  },
  {
   "cell_type": "code",
   "execution_count": 36,
   "metadata": {},
   "outputs": [
    {
     "data": {
      "text/plain": [
       "{'Alice': 'Spanish',\n",
       " 'Bob': 'French',\n",
       " 'Carol': 'Italian',\n",
       " 'Dave': 'Italian',\n",
       " 'Esther': 'French'}"
      ]
     },
     "execution_count": 36,
     "metadata": {},
     "output_type": "execute_result"
    }
   ],
   "source": [
<<<<<<< HEAD
    "# 辞書にまだない要素を追加\n",
=======
    "# 存在しないエントリを追加\n",
>>>>>>> b4529e87130a146f0b9ab6addabd572f78cdfd20
    "foreign_languages['Esther'] = 'French'\n",
    "foreign_languages"
   ]
  },
  {
   "cell_type": "code",
   "execution_count": 37,
   "metadata": {},
   "outputs": [
    {
     "data": {
      "text/plain": [
       "{'Alice': 'Spanish', 'Carol': 'Italian', 'Dave': 'Italian', 'Esther': 'French'}"
      ]
     },
     "execution_count": 37,
     "metadata": {},
     "output_type": "execute_result"
    }
   ],
   "source": [
    "# 辞書にある要素を削除\n",
    "del foreign_languages['Bob']\n",
    "foreign_languages"
   ]
  },
  {
   "cell_type": "code",
   "execution_count": 38,
   "metadata": {},
   "outputs": [
    {
     "data": {
      "text/plain": [
       "{'Alice': 'Spanish',\n",
       " 'Carol': 'Italian',\n",
       " 'Dave': 'Italian',\n",
       " 'Esther': 'Italian'}"
      ]
     },
     "execution_count": 38,
     "metadata": {},
     "output_type": "execute_result"
    }
   ],
   "source": [
    "# 辞書にある要素を変更\n",
    "foreign_languages['Esther'] = 'Italian'\n",
    "foreign_languages"
   ]
  },
  {
   "cell_type": "markdown",
   "metadata": {},
   "source": [
<<<<<<< HEAD
    "## 6.3 一意性\n",
    "要素を追加する構文はなく、既存の要素を変更する構文と同じであることに注意しよう。辞書のキーに値を割り当てると、そのキーが存在しない場合は追加し、存在する場合はそのキーの値を更新する。結果として、キーは必然的に*一意*になり、辞書に同じ名前のキーが複数存在することはない。"
=======
    "## 6.3 ユニーク\n",
    "存在しないエントリを追加する構文と，既存のエントリを変更する構文が同じであることに注意されたい．辞書のキーに値を割り当てるとき，キーが存在しなければ追加し，存在すれば値を更新する．その結果，キーは必然的に*ユニーク*でなければならない -- 同じキーを持つ要素を1つ以上辞書に入れることはできない．"
>>>>>>> b4529e87130a146f0b9ab6addabd572f78cdfd20
   ]
  },
  {
   "cell_type": "markdown",
   "metadata": {},
   "source": [
    "## 6.4 辞書のループ処理\n",
    "\n",
<<<<<<< HEAD
    "リストほど頻繁には行われないが、辞書の要素をループさせることができる。これを行うには2つの方法がある。"
=======
    "リストほど頻繁には行われないが，辞書のエントリをループ処理することは可能である．これを行うには2つの方法がある:"
>>>>>>> b4529e87130a146f0b9ab6addabd572f78cdfd20
   ]
  },
  {
   "cell_type": "code",
   "execution_count": 39,
   "metadata": {},
   "outputs": [
    {
     "name": "stdout",
     "output_type": "stream",
     "text": [
      "Alice is taking Spanish\n",
      "Carol is taking Italian\n",
      "Dave is taking Italian\n",
      "Esther is taking Italian\n"
     ]
    }
   ],
   "source": [
    "for key in foreign_languages:\n",
    "    value = foreign_languages[key]\n",
    "    print(key, 'is taking', value)"
   ]
  },
  {
   "cell_type": "code",
   "execution_count": 40,
   "metadata": {},
   "outputs": [
    {
     "name": "stdout",
     "output_type": "stream",
     "text": [
      "Alice is taking Spanish\n",
      "Carol is taking Italian\n",
      "Dave is taking Italian\n",
      "Esther is taking Italian\n"
     ]
    }
   ],
   "source": [
    "for key, value in foreign_languages.items():\n",
    "    print(key, 'is taking', value)"
   ]
  },
  {
   "cell_type": "markdown",
   "metadata": {},
   "source": [
    "ここでは，一般的な原則を示すために`key`と`value`という変数を使用している．自分のコードで辞書のループを書くときは，`key`や`value`ではなく，説明的な名前を使用する必要がある．"
   ]
  },
  {
   "cell_type": "markdown",
   "metadata": {},
   "source": [
    "## 6.5 レコードとしての辞書\n",
    "\n",
<<<<<<< HEAD
    "`foreign_languages`では、ペアになったデータ、つまり、すべての名前が科目と関連付けられている。辞書はまた、１つのエンティティに関するいくつかの異なるデータを格納するためによく使用される。この微妙な違いを説明するために、`student_grades`の要素の１つを見てみよう。"
=======
    "`foreign_languages`では，ペアになったデータがある -- すべての名前が科目と関連付けられている．辞書は，単一のエンティティに関するいくつかの異なるデータを含むためにも使用されることがよくある．この微妙な違いを説明するために，`student_grades`の1つのアイテムを見てみよう:"
>>>>>>> b4529e87130a146f0b9ab6addabd572f78cdfd20
   ]
  },
  {
   "cell_type": "code",
   "execution_count": 41,
   "metadata": {},
   "outputs": [],
   "source": [
    "student_grade = ('Alice', 'Spanish', 'A')"
   ]
  },
  {
   "cell_type": "markdown",
   "metadata": {},
   "source": [
<<<<<<< HEAD
    "ここで、これらのタプルの各要素は、名前、科目、および成績であることがわかっている。"
=======
    "ここでは，これらのタプルの各アイテムが名前，科目，成績であることがわかる:"
>>>>>>> b4529e87130a146f0b9ab6addabd572f78cdfd20
   ]
  },
  {
   "cell_type": "code",
   "execution_count": 42,
   "metadata": {},
   "outputs": [
    {
     "name": "stdout",
     "output_type": "stream",
     "text": [
      "Alice got a grade of A in Spanish\n"
     ]
    }
   ],
   "source": [
    "student_name, subject, grade = student_grades[0]\n",
    "print(student_name, 'got a grade of', grade, 'in', subject)"
   ]
  },
  {
   "cell_type": "markdown",
   "metadata": {},
   "source": [
<<<<<<< HEAD
    "このデータを辞書として表現し、そのように使用することができる。単一の要素について説明する情報の辞書は、しばしば*レコード*と呼ばれる。"
=======
    "代わりに，このデータを辞書として表現し，そのように使用することができる．単一のアイテムを記述する情報の辞書は，しばしば*レコード*と呼ばれる:"
>>>>>>> b4529e87130a146f0b9ab6addabd572f78cdfd20
   ]
  },
  {
   "cell_type": "code",
   "execution_count": 43,
   "metadata": {},
   "outputs": [
    {
     "name": "stdout",
     "output_type": "stream",
     "text": [
      "Alice got a grade of A in Spanish\n"
     ]
    }
   ],
   "source": [
    "record = {\n",
    "    'name': 'Alice',\n",
    "    'subject': 'Spanish',\n",
    "    'grade': 'A',\n",
    "}\n",
    "print(record['name'],\n",
    "      'got a grade of', record['grade'],\n",
    "      'in', record['subject'])"
   ]
  },
  {
   "cell_type": "markdown",
   "metadata": {},
   "source": [
<<<<<<< HEAD
    "コードは若干長くなるが、インデックスのマッチングや、それぞれの値が何を表しているのかについて、あいまいな点はまったくない。これは、いくつかのフィールドがオプションであるような場合にも有用である。"
=======
    "コードは少し長くなるが，ここにはインデックスを合わせたり，各値が何を表しているかについてまったくあいまいさがない．これは，一部のフィールドがオプションである可能性があるコンテキストでも便利である．"
>>>>>>> b4529e87130a146f0b9ab6addabd572f78cdfd20
   ]
  },
  {
   "cell_type": "markdown",
   "metadata": {},
   "source": [
    "# 7. データ型の組み合わせ\n",
    "\n",
<<<<<<< HEAD
    "これまでの単純な例では、文字列や数値などの単純な値を要素としてもつコレクションを扱うことが多かった。しかし、データ分析では、対象となるそれぞれの要素に複数のデータが関連付けられているような、複雑なデータをしばしば扱う。このような複雑なデータは、例えば辞書のリストのような、コレクションを要素にもつコレクションとして表現されることが多い。\n",
    "\n",
    "与えられた問題に対して適切なデータ型を選択することで、バグのないコードを書くことが容易になり、他の人にとっても読みやすいコードを書くことができるようになる。しかし、最適なデータ型を見極めるスキルを習得するには経験が必要になる。以下に、よく使われる組み合わせのデータ型をいくつか例示するが、これは全てのパターンを網羅している訳ではない。\n",
    "\n",
    "## 7.1 タプルのリスト\n",
    "\n",
    "この用法は、既に一度取り上げているものである。前節のタプルの展開の例で出てきた`student_grades`のデータについて考えてみよう。"
=======
    "これらの単純な例のほとんどでは，文字列や数値などの単純な値のコレクションを使用しているが，データ分析では，関心のある各アイテムに複数のデータが関連付けられている複雑なデータを扱うことがよくある．これらの複雑なデータは，多くの場合，コレクションのコレクション（例えば，辞書のリスト）として表現される．\n",
    "\n",
    "特定の問題に適切なデータ型を選択すると，バグのないコードを書きやすくなり，他の人がコードを読みやすくなるが，最適なデータ型を特定するのは経験によって得られるスキルである．よく使われる組み合わせのデータ型を以下に示すが，これは決して網羅的ではない．\n",
    "\n",
    "## 7.1 タプルのリスト\n",
    "\n",
    "これは以前に見たことがある．タプルのアンパックの前の例の`student_grades`データを考えてみよう:"
>>>>>>> b4529e87130a146f0b9ab6addabd572f78cdfd20
   ]
  },
  {
   "cell_type": "code",
   "execution_count": 44,
   "metadata": {},
   "outputs": [],
   "source": [
    "student_grades = [\n",
    "    ('Alice', 'Spanish', 'A'),\n",
    "    ('Bob', 'French', 'C'),\n",
    "    ('Carol', 'Italian', 'B+'),\n",
    "    ('Dave', 'Italian', 'A-'),\n",
    "]"
   ]
  },
  {
   "cell_type": "markdown",
   "metadata": {},
   "source": [
    "これはタプルのリストである。"
   ]
  },
  {
   "cell_type": "code",
   "execution_count": 45,
   "metadata": {},
   "outputs": [
    {
     "data": {
      "text/plain": [
       "('Bob', 'French', 'C')"
      ]
     },
     "execution_count": 45,
     "metadata": {},
     "output_type": "execute_result"
    }
   ],
   "source": [
    "student_grades[1]"
   ]
  },
  {
   "cell_type": "markdown",
   "metadata": {},
   "source": [
<<<<<<< HEAD
    "また、個々のタプルを次のように扱うことができるようになっている。"
=======
    "そして，個々のタプルを次のように処理できる:"
>>>>>>> b4529e87130a146f0b9ab6addabd572f78cdfd20
   ]
  },
  {
   "cell_type": "code",
   "execution_count": 46,
   "metadata": {},
   "outputs": [
    {
     "data": {
      "text/plain": [
       "'C'"
      ]
     },
     "execution_count": 46,
     "metadata": {},
     "output_type": "execute_result"
    }
   ],
   "source": [
    "student_grades[1][2]"
   ]
  },
  {
   "cell_type": "markdown",
   "metadata": {},
   "source": [
    "## 7.2 辞書のリスト\n",
    "\n",
<<<<<<< HEAD
    "辞書型の節では、辞書が１つのエンティティに関するいくつかのデータを格納するときによく使われる方法について探った。そのような辞書は*レコード*と呼ばれることがある。`student_grades`というタプルのリストを`student_grade_records`というレコードのリストに変換してみよう。"
=======
    "辞書のセクションでは，辞書が単一のエンティティに関するいくつかのデータを含むためによく使用されることを検討した．そして，そのような各辞書は*レコード*と呼ばれることがある．タプルのリスト`student_grades`をレコードのリスト`student_grade_records`に変換してみよう:"
>>>>>>> b4529e87130a146f0b9ab6addabd572f78cdfd20
   ]
  },
  {
   "cell_type": "code",
   "execution_count": 47,
   "metadata": {},
   "outputs": [
    {
     "data": {
      "text/plain": [
       "[{'name': 'Alice', 'subject': 'Spanish', 'grade': 'A'},\n",
       " {'name': 'Bob', 'subject': 'French', 'grade': 'C'},\n",
       " {'name': 'Carol', 'subject': 'Italian', 'grade': 'B+'},\n",
       " {'name': 'Dave', 'subject': 'Italian', 'grade': 'A-'}]"
      ]
     },
     "execution_count": 47,
     "metadata": {},
     "output_type": "execute_result"
    }
   ],
   "source": [
    "student_grade_records = []\n",
    "for student_name, subject, grade in student_grades:\n",
    "    record = {\n",
    "        'name': student_name,\n",
    "        'subject': subject,\n",
    "        'grade': grade,\n",
    "    }\n",
    "    student_grade_records.append(record)\n",
    "    \n",
    "student_grade_records"
   ]
  },
  {
   "cell_type": "markdown",
   "metadata": {},
   "source": [
<<<<<<< HEAD
    "これで、リストの各要素が辞書になった。"
=======
    "これで，リストの各アイテムが辞書になった:"
>>>>>>> b4529e87130a146f0b9ab6addabd572f78cdfd20
   ]
  },
  {
   "cell_type": "code",
   "execution_count": 48,
   "metadata": {},
   "outputs": [
    {
     "data": {
      "text/plain": [
       "{'name': 'Bob', 'subject': 'French', 'grade': 'C'}"
      ]
     },
     "execution_count": 48,
     "metadata": {},
     "output_type": "execute_result"
    }
   ],
   "source": [
    "student_grade_records[1]"
   ]
  },
  {
   "cell_type": "markdown",
   "metadata": {},
   "source": [
<<<<<<< HEAD
    "また、個々のレコードを次のように扱うことができる。"
=======
    "そして，個々のレコードを次のように処理できる:"
>>>>>>> b4529e87130a146f0b9ab6addabd572f78cdfd20
   ]
  },
  {
   "cell_type": "code",
   "execution_count": 49,
   "metadata": {},
   "outputs": [
    {
     "data": {
      "text/plain": [
       "'C'"
      ]
     },
     "execution_count": 49,
     "metadata": {},
     "output_type": "execute_result"
    }
   ],
   "source": [
    "student_grade_records[1]['grade']"
   ]
  },
  {
   "cell_type": "markdown",
   "metadata": {},
   "source": [
<<<<<<< HEAD
    "この辞書のリストは、データベースやAPIから取得したデータを表現する際によく使われる。タプルの展開に関する節で行ったように、このデータを使って、成績優秀な学生にお祝いの言葉を述べるコードを書いてみよう。"
=======
    "このリストの辞書は，データベースやAPIからのデータを表すためによく使用される．このデータを使用して，タプルのアンパックのセクションで行ったように，良い成績を取った生徒を祝福するコードを書いてみよう:"
>>>>>>> b4529e87130a146f0b9ab6addabd572f78cdfd20
   ]
  },
  {
   "cell_type": "code",
   "execution_count": 50,
   "metadata": {},
   "outputs": [
    {
     "name": "stdout",
     "output_type": "stream",
     "text": [
      "Congratulations Alice on getting an A in Spanish\n",
      "Congratulations Dave on getting an A- in Italian\n"
     ]
    }
   ],
   "source": [
    "for record in student_grade_records:\n",
    "    if record['grade'].startswith('A'):\n",
    "        print('Congratulations', record['name'], \n",
    "              'on getting an', record['grade'], \n",
    "              'in', record['subject'])"
   ]
  },
  {
   "cell_type": "markdown",
   "metadata": {},
   "source": [
    "## 7.3 辞書の辞書\n",
    "\n",
<<<<<<< HEAD
    "辞書のリストは、一意でないデータを扱うときに非常に有用である。前術の例では、それぞれの学生が授業によって異なる成績をとっているかもしえない。しかし、時には特定の名前、またはキーによってデータを参照したいこともある。この場合、レコード、つまり他の辞書を値にもっている辞書を使うことができる。\n",
    "\n",
    "語学の成績のみを必要としているという想定の元で、キーとして学生の名前を使って`student_grades`のデータを再度使用してみよう。"
=======
    "リストの辞書は，非ユニークなデータを扱う場合に非常に便利である．前の例では，各生徒が異なるクラスの成績を複数持っている可能性がある．しかし，時には特定の名前やキーでデータを参照したいこともある．この場合，値がレコード（つまり他の辞書）である辞書を使用できる．\n",
    "\n",
    "再び`student_grades`のデータを使用するが，生徒の名前をキーとして使用できるように，外国語の成績だけが必要だと仮定しよう:"
>>>>>>> b4529e87130a146f0b9ab6addabd572f78cdfd20
   ]
  },
  {
   "cell_type": "code",
   "execution_count": 51,
   "metadata": {},
   "outputs": [
    {
     "data": {
      "text/plain": [
       "{'Alice': {'subject': 'Spanish', 'grade': 'A'},\n",
       " 'Bob': {'subject': 'French', 'grade': 'C'},\n",
       " 'Carol': {'subject': 'Italian', 'grade': 'B+'},\n",
       " 'Dave': {'subject': 'Italian', 'grade': 'A-'}}"
      ]
     },
     "execution_count": 51,
     "metadata": {},
     "output_type": "execute_result"
    }
   ],
   "source": [
    "foreign_language_grades = {}\n",
    "for student_name, subject, grade in student_grades:\n",
    "    record = {\n",
    "        'subject': subject,\n",
    "        'grade': grade,\n",
    "    }\n",
    "    foreign_language_grades[student_name] = record\n",
    "    \n",
    "foreign_language_grades"
   ]
  },
  {
   "cell_type": "markdown",
   "metadata": {},
   "source": [
<<<<<<< HEAD
    "これで、学生の名前で語学の成績を参照することができる。"
=======
    "これで，生徒の名前で参照できるようになった:"
>>>>>>> b4529e87130a146f0b9ab6addabd572f78cdfd20
   ]
  },
  {
   "cell_type": "code",
   "execution_count": 52,
   "metadata": {},
   "outputs": [
    {
     "data": {
      "text/plain": [
       "{'subject': 'Spanish', 'grade': 'A'}"
      ]
     },
     "execution_count": 52,
     "metadata": {},
     "output_type": "execute_result"
    }
   ],
   "source": [
    "foreign_language_grades['Alice']"
   ]
  },
  {
   "cell_type": "markdown",
   "metadata": {},
   "source": [
<<<<<<< HEAD
    "さらに、必要のある個々のデータを取得することができる。"
=======
    "そして，気になる個々のデータを取得できる:"
>>>>>>> b4529e87130a146f0b9ab6addabd572f78cdfd20
   ]
  },
  {
   "cell_type": "code",
   "execution_count": 53,
   "metadata": {},
   "outputs": [
    {
     "data": {
      "text/plain": [
       "'A'"
      ]
     },
     "execution_count": 53,
     "metadata": {},
     "output_type": "execute_result"
    }
   ],
   "source": [
    "foreign_language_grades['Alice']['grade']"
   ]
  },
  {
   "cell_type": "markdown",
   "metadata": {},
   "source": [
    "## 7.4 タプルのキーを持つ辞書\n",
    "\n",
<<<<<<< HEAD
    "複数のデータに対してキーを辞書にすると便利なことがある。タプルを含む任意の不変オブジェクトは、辞書のキーとして使用することができる。学生の成績の例にしながら、学生の名前と科目のペアを辞書のキーにしたいとする。"
=======
    "複数のデータで辞書をキーにすることが便利な場合がある．辞書は，タプルを含むイミュータブルなオブジェクトをキーとして使用できる．生徒の成績の例を続けると，キーを生徒の名前と科目にしたいかもしれない:"
>>>>>>> b4529e87130a146f0b9ab6addabd572f78cdfd20
   ]
  },
  {
   "cell_type": "code",
   "execution_count": 54,
   "metadata": {},
   "outputs": [
    {
     "data": {
      "text/plain": [
       "{('Alice', 'Spanish'): 'A',\n",
       " ('Bob', 'French'): 'C',\n",
       " ('Carol', 'Italian'): 'B+',\n",
       " ('Dave', 'Italian'): 'A-'}"
      ]
     },
     "execution_count": 54,
     "metadata": {},
     "output_type": "execute_result"
    }
   ],
   "source": [
    "student_course_grades = {}\n",
    "for student_name, subject, grade in student_grades:\n",
    "    student_course_grades[student_name, subject] = grade\n",
    "    \n",
    "student_course_grades"
   ]
  },
  {
   "cell_type": "markdown",
   "metadata": {},
   "source": [
<<<<<<< HEAD
    "これで、すべての学生の成績を表示できる。"
=======
    "これで，生徒のすべての成績を表すことができる:"
>>>>>>> b4529e87130a146f0b9ab6addabd572f78cdfd20
   ]
  },
  {
   "cell_type": "code",
   "execution_count": 55,
   "metadata": {},
   "outputs": [],
   "source": [
    "student_course_grades['Alice', 'Math'] = 'A'\n",
    "student_course_grades['Alice', 'History'] = 'B'"
   ]
  },
  {
   "cell_type": "code",
   "execution_count": 56,
   "metadata": {},
   "outputs": [
    {
     "data": {
      "text/plain": [
       "{('Alice', 'Spanish'): 'A',\n",
       " ('Bob', 'French'): 'C',\n",
       " ('Carol', 'Italian'): 'B+',\n",
       " ('Dave', 'Italian'): 'A-',\n",
       " ('Alice', 'Math'): 'A',\n",
       " ('Alice', 'History'): 'B'}"
      ]
     },
     "execution_count": 56,
     "metadata": {},
     "output_type": "execute_result"
    }
   ],
   "source": [
    "student_course_grades"
   ]
  },
  {
   "cell_type": "markdown",
   "metadata": {},
   "source": [
    "## 7.5 別の辞書の辞書\n",
    "\n",
<<<<<<< HEAD
    "特定の学生について教科と成績をペアにしたもの、つまり成績表を取得したいということがよくある。学生の名前をキーとし、教科と成績のペア値にもった辞書を作成できる。この場合、ちょっとした確認をする必要があり、以下のようなステップでおこなう。"
=======
    "特定の生徒の場合，科目と成績のペアを取得することが多いという事実を利用しよう．つまり，成績表である．生徒の名前をキーとし，値を科目と成績のペアの辞書とする辞書を作成できる．この場合，少しチェックする必要がある．そのステップにコメントを付けている:"
>>>>>>> b4529e87130a146f0b9ab6addabd572f78cdfd20
   ]
  },
  {
   "cell_type": "code",
   "execution_count": 57,
   "metadata": {},
   "outputs": [],
   "source": [
    "student_report_cards = {}\n",
    "for student_name, subject, grade in student_grades:\n",
<<<<<<< HEAD
    "    # もし学生の成績表がなければ、\n",
    "    # 空のものを作る必要がある\n",
=======
    "    # 生徒の成績表がない場合は，\n",
    "    # 空の成績表を作成する必要がある\n",
>>>>>>> b4529e87130a146f0b9ab6addabd572f78cdfd20
    "    if student_name not in student_report_cards:\n",
    "        student_report_cards[student_name] = {}\n",
    "    student_report_cards[student_name][subject] = grade"
   ]
  },
  {
   "cell_type": "code",
   "execution_count": 58,
   "metadata": {},
   "outputs": [
    {
     "data": {
      "text/plain": [
       "{'Alice': {'Spanish': 'A'},\n",
       " 'Bob': {'French': 'C'},\n",
       " 'Carol': {'Italian': 'B+'},\n",
       " 'Dave': {'Italian': 'A-'}}"
      ]
     },
     "execution_count": 58,
     "metadata": {},
     "output_type": "execute_result"
    }
   ],
   "source": [
    "student_report_cards"
   ]
  },
  {
   "cell_type": "markdown",
   "metadata": {},
   "source": [
<<<<<<< HEAD
    "この手間をかけることの利点は、1人の学生に複数の成績を簡単につけられるようになるということである。"
=======
    "この追加の作業の利点は，生徒ごとに複数の成績を簡単に持てるようになったことである:"
>>>>>>> b4529e87130a146f0b9ab6addabd572f78cdfd20
   ]
  },
  {
   "cell_type": "code",
   "execution_count": 59,
   "metadata": {},
   "outputs": [],
   "source": [
    "student_report_cards['Alice']['Math'] = 'A'\n",
    "student_report_cards['Alice']['History'] = 'B'"
   ]
  },
  {
   "cell_type": "code",
   "execution_count": 60,
   "metadata": {},
   "outputs": [
    {
     "data": {
      "text/plain": [
       "{'Alice': {'Spanish': 'A', 'Math': 'A', 'History': 'B'},\n",
       " 'Bob': {'French': 'C'},\n",
       " 'Carol': {'Italian': 'B+'},\n",
       " 'Dave': {'Italian': 'A-'}}"
      ]
     },
     "execution_count": 60,
     "metadata": {},
     "output_type": "execute_result"
    }
   ],
   "source": [
    "student_report_cards"
   ]
  },
  {
   "cell_type": "markdown",
   "metadata": {},
   "source": [
<<<<<<< HEAD
    "また、学生の「成績表」を簡単に取り出すことができる。"
=======
    "そして，生徒の「成績表」を簡単に取得できる:"
>>>>>>> b4529e87130a146f0b9ab6addabd572f78cdfd20
   ]
  },
  {
   "cell_type": "code",
   "execution_count": 61,
   "metadata": {},
   "outputs": [
    {
     "data": {
      "text/plain": [
       "{'Spanish': 'A', 'Math': 'A', 'History': 'B'}"
      ]
     },
     "execution_count": 61,
     "metadata": {},
     "output_type": "execute_result"
    }
   ],
   "source": [
    "student_report_cards['Alice']"
   ]
  },
  {
   "cell_type": "code",
   "execution_count": null,
   "metadata": {},
   "outputs": [],
   "source": []
  }
 ],
 "metadata": {
  "kernelspec": {
   "display_name": "Python 3",
   "language": "python",
   "name": "python3"
  },
  "language_info": {
   "codemirror_mode": {
    "name": "ipython",
    "version": 3
   },
   "file_extension": ".py",
   "mimetype": "text/x-python",
   "name": "python",
   "nbconvert_exporter": "python",
   "pygments_lexer": "ipython3",
   "version": "3.6.8"
  }
 },
 "nbformat": 4,
 "nbformat_minor": 2
}
