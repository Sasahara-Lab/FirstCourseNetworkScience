{
  "cells": [
    {
      "cell_type": "markdown",
      "metadata": {},
      "source": [
        "\n",
        "# `import`ステートメント\n",
        "\n",
        "`import`ステートメントはコードの冒頭にあり、Python に外部モジュールをロードするように指示している。この場合、NetworkX をロードしたいのだが、繰り返し入力する必要があるため、`as`ステートメントを使用してエイリアス（短い別名）`nx`をつける。\n",
        "\n",
        " `%`記号で始まる行は Python のコードではなく、Jupyter ノートブックの「魔法」コマンドである。 `%matplotlib inline`というコマンドは、Jupyter Notebook にインラインで、つまりノートブック内にグラフィックを描画するように指示する。このコマンドは、import ステートメントの直後に用いなければならない。\n"
      ]
    },
    {
      "cell_type": "markdown",
      "metadata": {},
      "source": [
        "\n",
        "# 第 1 章\n",
        "\n",
        "NetworkX を使用して、重み付き・重みなしエッジを使用して、無向・有向のグラフを構築および描画でき、グラフを分析するための一連の関数も利用可能である。このチュートリアルでは、いくつかの基本的な例を演習で説明する。\n",
        "\n",
        "多くの演習ブロックの後には、いくつかの `assert` ステートメントを含むブロックが続くことに注意させたい。これらのアサーションの前に、セットアップ・コードが表示される場合もある。これらは、あなたが正しい道を進んでいるかというフィードバックを提供するためのものである。`AssertionError` が発生する場合、恐らくあなたは何か間違ったことをしたかもしれない。\n",
        "\n",
        "## このチュートリアルで使用されるバージョンの公式ドキュメント\n",
        "\n",
        "[https://networkx.github.io/documentation/networkx-2.2/](https://networkx.github.io/documentation/networkx-2.2/)\n",
        "\n",
        "## このチュートリアルで使用されるバージョンの公式チュートリアル\n",
        "\n",
        "[https://networkx.github.io/documentation/networkx-2.2/tutorial.html](https://networkx.github.io/documentation/networkx-2.2/tutorial.html)\n"
      ]
    },
    {
      "cell_type": "code",
      "execution_count": null,
      "metadata": {},
      "outputs": [],
      "source": [
        "import networkx as nx\n",
        "%matplotlib inline"
      ]
    },
    {
      "cell_type": "markdown",
      "metadata": {},
      "source": [
        "\n",
        "まずはインストールされている NetworkX のバージョンを確認しよう。バージョン2 は 1 と互換性がないため、旧式のものを使用していないかを確認したい。\n"
      ]
    },
    {
      "cell_type": "code",
      "execution_count": 2,
      "metadata": {},
      "outputs": [
        {
          "data": {
            "text/plain": []
          },
          "execution_count": 2,
          "metadata": {},
          "output_type": "execute_result"
        }
      ],
      "source": [
        "nx.__version__"
      ]
    },
    {
      "cell_type": "markdown",
      "metadata": {},
      "source": [
        "\n",
        "# 無向グラフの作成と描画\n"
      ]
    },
    {
      "cell_type": "code",
      "execution_count": 3,
      "metadata": {},
      "outputs": [
        {
          "data": {
            "image/png": "[encoded data removed]",
            "text/plain": [
              "<Figure size 432x288 with 1 Axes>"
            ]
          },
          "metadata": {},
          "output_type": "display_data"
        }
      ],
      "source": [
        "# グラフ（Graph)はデフォルトで方向性をもたない\n",
        "G = nx.Graph()\n",
        "\n",
        "# それぞれのノードに名前を付ける。今回はアルファベットの名前をつける\n",
        "G.add_node('a')\n",
        "\n",
        "# add_nodes_from メソットはシーケンス（この場合は リスト）よりノードを加えることができる\n",
        "nodes_to_add = ['b', 'c', 'd']\n",
        "G.add_nodes_from(nodes_to_add)\n",
        "\n",
        "# ノード 'a' と 'b' の間にエッジを加える\n",
        "# このグラフは無向グラフであるため、ノードの順序は無関係である\n",
        "G.add_edge('a', 'b')\n",
        "\n",
        "# add_nodes_from　同様に、シーケンスからエッジを加えることもできる\n",
        "# エッジは 2 要素のタプルで指定される\n",
        "edges_to_add = [('a', 'c'), ('b', 'c'), ('c', 'd')]\n",
        "G.add_edges_from(edges_to_add)\n",
        "\n",
        "# グラフを描画する\n",
        "nx.draw(G, with_labels=True)"
      ]
    },
    {
      "cell_type": "markdown",
      "metadata": {},
      "source": [
        "\n",
        "外観をカスタマイズするため、`draw` 関数には多数のオプション引数がある。\n"
      ]
    },
    {
      "cell_type": "markdown",
      "metadata": {},
      "source": []
    },
    {
      "cell_type": "code",
      "execution_count": 4,
      "metadata": {},
      "outputs": [
        {
          "data": {
            "image/png": "[encoded data removed]",
            "text/plain": [
              "<Figure size 432x288 with 1 Axes>"
            ]
          },
          "metadata": {},
          "output_type": "display_data"
        }
      ],
      "source": [
        "nx.draw(G,\n",
        "        with_labels=True,\n",
        "        node_color='blue',\n",
        "        node_size=1600,\n",
        "        font_color='white',\n",
        "        font_size=16,\n",
        "        )"
      ]
    },
    {
      "cell_type": "markdown",
      "metadata": {},
      "source": [
        "\n",
        "# 命名規則に関する注意\n",
        "\n",
        "一般的にPython では、変数は`snake_case`で、つまり、単語をアンダースコアで区切った小文字で表す。クラス名は従来通りに`CamelCase`で、つまり、各単語の最初の文字が大文字で表される。\n",
        "\n",
        "NetworkX はこの慣例に従わず、多くの場合、グラフの名前に一文字の大文字を使用する。これは、離散数学の慣例にしたがった規則の一例である。オンラインで見つけられるドキュメントのほとんどはこの規則を使用しているので、本書もそれに従う。\n"
      ]
    },
    {
      "cell_type": "markdown",
      "metadata": {},
      "source": [
        "\n",
        "# グラフのメゾット\n",
        "\n",
        "`Graph` オブジェクトには、グラフ全体に関するデータを提供するいくつかのプロパティとメソッドがある。\n"
      ]
    },
    {
      "cell_type": "code",
      "execution_count": 5,
      "metadata": {},
      "outputs": [
        {
          "data": {
            "text/plain": [
              "NodeView(('a', 'b', 'c', 'd'))"
            ]
          },
          "execution_count": 5,
          "metadata": {},
          "output_type": "execute_result"
        }
      ],
      "source": [
        "# 全てのノードを列挙する\n",
        "G.nodes()"
      ]
    },
    {
      "cell_type": "code",
      "execution_count": 6,
      "metadata": {},
      "outputs": [
        {
          "data": {
            "text/plain": [
              "EdgeView([('a', 'b'), ('a', 'c'), ('b', 'c'), ('c', 'd')])"
            ]
          },
          "execution_count": 6,
          "metadata": {},
          "output_type": "execute_result"
        }
      ],
      "source": [
        "# 全てのエッジを列挙する\n",
        "G.edges()"
      ]
    },
    {
      "cell_type": "markdown",
      "metadata": {},
      "source": [
        "\n",
        "`NodeView` および `EdgeView` オブジェクトにはイテレータがあるため、それらを `for` ループで使用できる。\n"
      ]
    },
    {
      "cell_type": "code",
      "execution_count": 7,
      "metadata": {},
      "outputs": [
        {
          "name": "stdout",
          "output_type": "stream",
          "text": [
            "a\n",
            "b\n",
            "c\n",
            "d\n"
          ]
        }
      ],
      "source": [
        "for node in G.nodes:\n",
        "    print(node)"
      ]
    },
    {
      "cell_type": "code",
      "execution_count": 8,
      "metadata": {},
      "outputs": [
        {
          "name": "stdout",
          "output_type": "stream",
          "text": [
            "('a', 'b')\n",
            "('a', 'c')\n",
            "('b', 'c')\n",
            "('c', 'd')\n"
          ]
        }
      ],
      "source": [
        "for edge in G.edges:\n",
        "    print(edge)"
      ]
    },
    {
      "cell_type": "markdown",
      "metadata": {},
      "source": [
        "\n",
        "エッジは、入力と同様、 2 要素のタプルとして与えられることに注意しよう。\n",
        "\n",
        " `number_of_` メソッドを使用して、グラフ内のノードとエッジの数を取得できる。\n"
      ]
    },
    {
      "cell_type": "code",
      "execution_count": 9,
      "metadata": {},
      "outputs": [
        {
          "data": {
            "text/plain": [
              "4"
            ]
          },
          "execution_count": 9,
          "metadata": {},
          "output_type": "execute_result"
        }
      ],
      "source": [
        "G.number_of_nodes()"
      ]
    },
    {
      "cell_type": "code",
      "execution_count": 10,
      "metadata": {},
      "outputs": [
        {
          "data": {
            "text/plain": [
              "4"
            ]
          },
          "execution_count": 10,
          "metadata": {},
          "output_type": "execute_result"
        }
      ],
      "source": [
        "G.number_of_edges()"
      ]
    },
    {
      "cell_type": "markdown",
      "metadata": {},
      "source": [
        "\n",
        "一部のグラフメソッドは、エッジまたはノードを引数として指定することができる。これらは、特定のエッジまたはノードのグラフプロパティを提供する。例えば、 `.neighbors()` メソッドは、指定されたノードにリンクされたノードを提供する。\n"
      ]
    },
    {
      "cell_type": "code",
      "execution_count": 11,
      "metadata": {},
      "outputs": [
        {
          "data": {
            "text/plain": [
              "<dict_keyiterator at 0x14dbc936130>"
            ]
          },
          "execution_count": 11,
          "metadata": {},
          "output_type": "execute_result"
        }
      ],
      "source": [
        "# ノード 'b' の近隣ノードのリスト\n",
        "G.neighbors('b')"
      ]
    },
    {
      "cell_type": "markdown",
      "metadata": {},
      "source": [
        "\n",
        "パフォーマンス上の理由から、多くのGraphメソッドはリストではなくイテレータを返す。それらはループするのに便利である:\n"
      ]
    },
    {
      "cell_type": "code",
      "execution_count": 12,
      "metadata": {},
      "outputs": [
        {
          "name": "stdout",
          "output_type": "stream",
          "text": [
            "a\n",
            "c\n"
          ]
        }
      ],
      "source": [
        "for neighbor in G.neighbors('b'):\n",
        "    print(neighbor)"
      ]
    },
    {
      "cell_type": "markdown",
      "metadata": {},
      "source": [
        "\n",
        "なお、イテレータからリストオブジェクトを作成するためにいつでも`list`コンストラクターを使用できる。\n"
      ]
    },
    {
      "cell_type": "markdown",
      "metadata": {},
      "source": []
    },
    {
      "cell_type": "code",
      "execution_count": 13,
      "metadata": {},
      "outputs": [
        {
          "data": {
            "text/plain": [
              "['a', 'c']"
            ]
          },
          "execution_count": 13,
          "metadata": {},
          "output_type": "execute_result"
        }
      ],
      "source": [
        "list(G.neighbors('b'))"
      ]
    },
    {
      "cell_type": "markdown",
      "metadata": {},
      "source": [
        "\n",
        "# NetworkX 関数とグラフメソッド\n",
        "\n",
        "これまでのデータは、グラフ*メソッド*を介して利用でき、次のようにしてグラフオブジェクトから呼び出すことができる。\n",
        "\n",
        "    G.<メソット名>(<引数>)\n",
        "\n",
        "最もよく使用される NetworkX の関数のいくつかはメソッドとして提供されているが、さらに多くのものはモジュール関数であり、次のように呼び出される。\n",
        "\n",
        "    nx.<関数名>(G, <引数>)\n",
        "\n",
        "つまり、グラフが最初の、そしておそらく唯一の引数として提供される。グラフに関する情報を提供する NetworkX モジュール関数の例をいくつか示したい。\n"
      ]
    },
    {
      "cell_type": "markdown",
      "metadata": {},
      "source": []
    },
    {
      "cell_type": "code",
      "execution_count": 14,
      "metadata": {},
      "outputs": [
        {
          "data": {
            "text/plain": [
              "False"
            ]
          },
          "execution_count": 14,
          "metadata": {},
          "output_type": "execute_result"
        }
      ],
      "source": [
        "nx.is_tree(G)"
      ]
    },
    {
      "cell_type": "code",
      "execution_count": 15,
      "metadata": {},
      "outputs": [
        {
          "data": {
            "text/plain": [
              "True"
            ]
          },
          "execution_count": 15,
          "metadata": {},
          "output_type": "execute_result"
        }
      ],
      "source": [
        "nx.is_connected(G)"
      ]
    },
    {
      "cell_type": "markdown",
      "metadata": {},
      "source": []
    },
    {
      "cell_type": "markdown",
      "metadata": {},
      "source": [
        "\n",
        "# ノードとエッジの存在性\n",
        "\n",
        "ノードがグラフ中に存在するかどうかを確認するには、 `has_node()`メソッドが使用できる。\n"
      ]
    },
    {
      "cell_type": "code",
      "execution_count": 16,
      "metadata": {},
      "outputs": [
        {
          "data": {
            "text/plain": [
              "True"
            ]
          },
          "execution_count": 16,
          "metadata": {},
          "output_type": "execute_result"
        }
      ],
      "source": [
        "G.has_node('a')"
      ]
    },
    {
      "cell_type": "code",
      "execution_count": 17,
      "metadata": {},
      "outputs": [
        {
          "data": {
            "text/plain": [
              "False"
            ]
          },
          "execution_count": 17,
          "metadata": {},
          "output_type": "execute_result"
        }
      ],
      "source": [
        "G.has_node('x')"
      ]
    },
    {
      "cell_type": "markdown",
      "metadata": {},
      "source": [
        "\n",
        "さらに、上記のループ構文: `for n in G.nodes`は、ノードがグラフ内にあるかどうかを確認する別の方法を示唆している。\n"
      ]
    },
    {
      "cell_type": "code",
      "execution_count": 18,
      "metadata": {},
      "outputs": [
        {
          "data": {
            "text/plain": [
              "True"
            ]
          },
          "execution_count": 18,
          "metadata": {},
          "output_type": "execute_result"
        }
      ],
      "source": [
        "'d' in G.nodes"
      ]
    },
    {
      "cell_type": "markdown",
      "metadata": {},
      "source": [
        "\n",
        "同様に、2 つのノードがエッジで接続されているかどうかを確認できる。\n"
      ]
    },
    {
      "cell_type": "code",
      "execution_count": 19,
      "metadata": {},
      "outputs": [
        {
          "data": {
            "text/plain": [
              "True"
            ]
          },
          "execution_count": 19,
          "metadata": {},
          "output_type": "execute_result"
        }
      ],
      "source": [
        "G.has_edge('a', 'b')"
      ]
    },
    {
      "cell_type": "code",
      "execution_count": 20,
      "metadata": {},
      "outputs": [
        {
          "data": {
            "text/plain": [
              "False"
            ]
          },
          "execution_count": 20,
          "metadata": {},
          "output_type": "execute_result"
        }
      ],
      "source": [
        "G.has_edge('a', 'd')"
      ]
    },
    {
      "cell_type": "code",
      "execution_count": 21,
      "metadata": {},
      "outputs": [
        {
          "data": {
            "text/plain": [
              "True"
            ]
          },
          "execution_count": 21,
          "metadata": {},
          "output_type": "execute_result"
        }
      ],
      "source": [
        "('c', 'd') in G.edges"
      ]
    },
    {
      "cell_type": "markdown",
      "metadata": {},
      "source": [
        "\n",
        "# ノード次数\n",
        "\n",
        "グラフ内のノードについて問われる最も重要な項目の 1 つは、そのノードが他のノードと接続しているの数、つまりノードの次数である。上記の`.neighbors()`メソッドを使用すると、この問いを次のように定式化できる。\n"
      ]
    },
    {
      "cell_type": "markdown",
      "metadata": {},
      "source": []
    },
    {
      "cell_type": "code",
      "execution_count": 22,
      "metadata": {},
      "outputs": [
        {
          "data": {
            "text/plain": [
              "2"
            ]
          },
          "execution_count": 22,
          "metadata": {},
          "output_type": "execute_result"
        }
      ],
      "source": [
        "len(list(G.neighbors('a')))"
      ]
    },
    {
      "cell_type": "markdown",
      "metadata": {},
      "source": [
        "\n",
        "しかし、これは非常に一般的なタスクであるため、NetworkX はこれをより明確な方法で行うためのグラフメソッドを提供している。\n"
      ]
    },
    {
      "cell_type": "code",
      "execution_count": 23,
      "metadata": {},
      "outputs": [
        {
          "data": {
            "text/plain": [
              "2"
            ]
          },
          "execution_count": 23,
          "metadata": {},
          "output_type": "execute_result"
        }
      ],
      "source": [
        "G.degree('a')"
      ]
    },
    {
      "cell_type": "markdown",
      "metadata": {},
      "source": [
        "\n",
        "# 演習 1\n",
        "\n",
        "木の構造では多くの場合、、次数 1 のノードは*リーフ*とよばれる。グラフを引数とし、ノードをループし、次数 1 のノードのリストを返す関数 `get_leaves` を作成せよ。\n"
      ]
    },
    {
      "cell_type": "code",
      "execution_count": null,
      "metadata": {},
      "outputs": [],
      "source": [
        "def get_leaves(G):\n"
      ]
    },
    {
      "cell_type": "code",
      "execution_count": null,
      "metadata": {},
      "outputs": [],
      "source": [
        "G = nx.Graph()\n",
        "G.add_edges_from([\n",
        "        ('a', 'b'),\n",
        "        ('a', 'd'),\n",
        "        ('c', 'd'),\n",
        "    ])\n",
        "assert set(get_leaves(G)) == {'c', 'b'}"
      ]
    },
    {
      "cell_type": "markdown",
      "metadata": {},
      "source": [
        "\n",
        "# 番外編：理解\n",
        "\n",
        "シーケンスの各項目にある種の演算を適用して新しいシーケンスを生成したい場合がよくある。リスト内包表記 (list comprehension) とジェネレーター式 (generator expression) は、これを行うための手軽な方法である。\n",
        "\n",
        "リスト内包表記は角括弧の中で指定され、即座に結果リストを生成する。\n"
      ]
    },
    {
      "cell_type": "code",
      "execution_count": 26,
      "metadata": {},
      "outputs": [
        {
          "data": {
            "text/plain": [
              "['SPIDER', 'Y', 'BANANA']"
            ]
          },
          "execution_count": 26,
          "metadata": {},
          "output_type": "execute_result"
        }
      ],
      "source": [
        "items = ['spider', 'y', 'banana']\n",
        "[item.upper() for item in items]"
      ]
    },
    {
      "cell_type": "markdown",
      "metadata": {},
      "source": []
    },
    {
      "cell_type": "markdown",
      "metadata": {},
      "source": [
        "\n",
        "NetworkX では、ノードまたはエッジのリストで何かを行うためによく使用される。\n"
      ]
    },
    {
      "cell_type": "code",
      "execution_count": 27,
      "metadata": {},
      "outputs": [
        {
          "name": "stdout",
          "output_type": "stream",
          "text": [
            "['a', 'b', 'd', 'c']\n",
            "[2, 1, 2, 1]\n"
          ]
        }
      ],
      "source": [
        "print(G.nodes())\n",
        "print([G.degree(n) for n in G.nodes()])"
      ]
    },
    {
      "cell_type": "markdown",
      "metadata": {},
      "source": [
        "\n",
        "ジェネレータ式は、[遅延](https://en.wikipedia.org/wiki/Lazy_evaluation)評価されるため、わずかに異なる。これらは丸括弧で指定され（関数の引数として表現されている場合は括弧なしでもよい）。 これらは`max`関数のような、集計の場面で最もよく使用される。\n"
      ]
    },
    {
      "cell_type": "code",
      "execution_count": 28,
      "metadata": {},
      "outputs": [
        {
          "data": {
            "text/plain": [
              "[6, 1, 6]"
            ]
          },
          "execution_count": 28,
          "metadata": {},
          "output_type": "execute_result"
        }
      ],
      "source": [
        "g = (len(item) for item in items)\n",
        "list(g)"
      ]
    },
    {
      "cell_type": "code",
      "execution_count": 29,
      "metadata": {},
      "outputs": [
        {
          "data": {
            "text/plain": [
              "6"
            ]
          },
          "execution_count": 29,
          "metadata": {},
          "output_type": "execute_result"
        }
      ],
      "source": [
        "max(len(item) for item in items)"
      ]
    },
    {
      "cell_type": "code",
      "execution_count": 30,
      "metadata": {},
      "outputs": [
        {
          "data": {
            "text/plain": [
              "['BANANA', 'SPIDER', 'Y']"
            ]
          },
          "execution_count": 30,
          "metadata": {},
          "output_type": "execute_result"
        }
      ],
      "source": [
        "sorted(item.upper() for item in items)"
      ]
    },
    {
      "cell_type": "markdown",
      "metadata": {},
      "source": [
        "\n",
        "# ノード名\n",
        "\n",
        "ノード名は必ずしも 一文字であるとは限らず、文字列や整数など、任意の不変オブジェクトにすることができ、それらを混在させることもできる。以下の例では、名前に文字列と整数を使用している。\n"
      ]
    },
    {
      "cell_type": "code",
      "execution_count": 31,
      "metadata": {},
      "outputs": [
        {
          "data": {
            "image/png": "[encoded data removed]",
            "text/plain": [
              "<Figure size 432x288 with 1 Axes>"
            ]
          },
          "metadata": {},
          "output_type": "display_data"
        }
      ],
      "source": [
        "G = nx.Graph()\n",
        "\n",
        "G.add_nodes_from(['cat','dog','virus',13])\n",
        "\n",
        "G.add_edge('cat','dog')\n",
        "\n",
        "nx.draw(G, with_labels=True, font_color='white', node_size=1000)"
      ]
    },
    {
      "cell_type": "markdown",
      "metadata": {},
      "source": [
        "\n",
        "# 隣接リスト\n",
        "\n",
        "グラフをコンパクトに表す方法の一つが、隣接リストである。これは、重み無しの有向または無向グラフに最も有効である。隣接リストでは、各行にいくつかのノード名が含まれており、最初のノード名はエッジの「始点」で、行の他の各ノード名はその「終点」である。例えば、次のような隣接リストがあるとする。\n",
        "```\n",
        "a d e\n",
        "b c\n",
        "c\n",
        "d\n",
        "e\n",
        "```\n",
        "この隣接リストで表されるグラフのエッジは次のとおりである。\n",
        "```\n",
        "(a, d)\n",
        "(a, e)\n",
        "(b, c)\n",
        "```\n",
        "それぞれの行にノードが存在するため、シングルトンノードを確実に含めることができる。グラフが無向の場合、エッジに任意の一方向のみ指定する必要がある。重要なのは、グラフが有向か無向かの情報がファイル自体に含まれていないことが多く、推測する必要があるということである。これは、隣接リスト形式の限界の一つである。\n",
        "\n",
        " `datasets`ディレクトリには、 `friends.adjlist`というファイルがあり、プレーンのテキストファイルなので、パソコンでもGitHubでも開ける。そのファイルの内容は以下の通りである。\n"
      ]
    },
    {
      "cell_type": "code",
      "execution_count": 32,
      "metadata": {},
      "outputs": [
        {
          "name": "stdout",
          "output_type": "stream",
          "text": [
            "George Frank Dennis\n",
            "Dennis Claire Esther\n",
            "Claire Frank Alice Esther\n",
            "Bob Alice\n",
            "Frank Alice\n",
            "Alice\n",
            "Esther\n",
            "Shelly\n",
            "\n"
          ]
        }
      ],
      "source": [
        "print(open('../datasets/friends.adjlist').read())"
      ]
    },
    {
      "cell_type": "markdown",
      "metadata": {},
      "source": [
        "\n",
        "NetworkX には、隣接リストからグラフを読み取る方法：`nx.read_adjlist()` が提供される。このグラフをソーシャルグラフの略語として SG と名付ける。\n"
      ]
    },
    {
      "cell_type": "code",
      "execution_count": 33,
      "metadata": {},
      "outputs": [],
      "source": [
        "SG = nx.read_adjlist('../datasets/friends.adjlist')"
      ]
    },
    {
      "cell_type": "markdown",
      "metadata": {},
      "source": [
        "\n",
        "このグラフの描き方はすでにわかっている：\n"
      ]
    },
    {
      "cell_type": "code",
      "execution_count": 34,
      "metadata": {},
      "outputs": [
        {
          "data": {
            "image/png": "[encoded data removed]",
            "text/plain": [
              "<Figure size 432x288 with 1 Axes>"
            ]
          },
          "metadata": {},
          "output_type": "display_data"
        }
      ],
      "source": [
        "nx.draw(SG, node_size=2000, node_color='lightblue', with_labels=True)"
      ]
    },
    {
      "cell_type": "markdown",
      "metadata": {},
      "source": [
        "\n",
        "さらに、ノードからリンクされている友達の数などの情報を取得する方法もわかっている。\n"
      ]
    },
    {
      "cell_type": "code",
      "execution_count": 35,
      "metadata": {},
      "outputs": [
        {
          "data": {
            "text/plain": [
              "3"
            ]
          },
          "execution_count": 35,
          "metadata": {},
          "output_type": "execute_result"
        }
      ],
      "source": [
        "SG.degree('Alice')"
      ]
    },
    {
      "cell_type": "markdown",
      "metadata": {},
      "source": [
        "\n",
        "# 演習 2\n",
        "\n",
        "引数としてグラフを取り、次数が最も高いノードの名前と次数を含む 2 要素のタプルを返す関数 `max_degree` を作成せよ。\n"
      ]
    },
    {
      "cell_type": "code",
      "execution_count": null,
      "metadata": {},
      "outputs": [],
      "source": [
        "def max_degree(G):\n",
        "    "
      ]
    },
    {
      "cell_type": "code",
      "execution_count": null,
      "metadata": {},
      "outputs": [],
      "source": [
        "SG = nx.read_adjlist('../datasets/friends.adjlist')\n",
        "assert max_degree(SG) == ('Claire', 4)"
      ]
    },
    {
      "cell_type": "markdown",
      "metadata": {},
      "source": [
        "\n",
        "# 演習 3\n",
        "\n",
        "グラフと 2 つのノードを引数として取り、与えられた両方のノードにリンクされているノードのリスト (またはセット) を返す関数 `mutual_friends` を作成せよ。例えば、上に描いたグラフ`SG`では、\n",
        "\n",
        "    mutual_friends(SG, 'Alice', 'Claire') == ['Frank']\n",
        "\n",
        "となるはずである。なお、2 つのノードに相互の友人がいない場合（例えば、上に描かれた `SG` の George と Bob）、空のリストまたはセットが返される。\n"
      ]
    },
    {
      "cell_type": "code",
      "execution_count": null,
      "metadata": {},
      "outputs": [],
      "source": [
        "def mutual_friends(G, node_1, node_2):"
      ]
    },
    {
      "cell_type": "code",
      "execution_count": null,
      "metadata": {},
      "outputs": [],
      "source": [
        "SG = nx.read_adjlist('../datasets/friends.adjlist')\n",
        "assert mutual_friends(SG, 'Alice', 'Claire') == ['Frank']\n",
        "assert mutual_friends(SG, 'George', 'Bob') == []\n",
        "assert sorted(mutual_friends(SG, 'Claire', 'George')) == ['Dennis', 'Frank']"
      ]
    },
    {
      "cell_type": "markdown",
      "metadata": {},
      "source": [
        "\n",
        "# 有向グラフ\n",
        "\n",
        "特に指定がない限り、グラフのエッジは無向だと仮定する、つまり、対称的であり、双方向に行けると想定する。しかし、捕食者と被食者の関係など、一部の関係は非対称であり、有向グラフとして表現するのが最適である。 NetworkX は、有向グラフ用の `DiGraph` クラスを提供する。\n"
      ]
    },
    {
      "cell_type": "code",
      "execution_count": 38,
      "metadata": {},
      "outputs": [
        {
          "data": {
            "image/png": "[encoded data removed]",
            "text/plain": [
              "<Figure size 432x288 with 1 Axes>"
            ]
          },
          "metadata": {},
          "output_type": "display_data"
        }
      ],
      "source": [
        "D = nx.DiGraph()\n",
        "\n",
        "D.add_edges_from([(1,2),(2,3),(3,2),(3,4),(3,5),(4,5),(4,6),(5,6),(6,4),(4,2)])\n",
        "\n",
        "nx.draw(D, with_labels=True)"
      ]
    },
    {
      "cell_type": "markdown",
      "metadata": {},
      "source": []
    },
    {
      "cell_type": "markdown",
      "metadata": {},
      "source": [
        "\n",
        "`has_edge()` などのエッジを扱うグラフメソッドの非対称性に注意してほしい。\n"
      ]
    },
    {
      "cell_type": "code",
      "execution_count": 39,
      "metadata": {},
      "outputs": [
        {
          "data": {
            "text/plain": [
              "True"
            ]
          },
          "execution_count": 39,
          "metadata": {},
          "output_type": "execute_result"
        }
      ],
      "source": [
        "D.has_edge(1,2)"
      ]
    },
    {
      "cell_type": "code",
      "execution_count": 40,
      "metadata": {},
      "outputs": [
        {
          "data": {
            "text/plain": [
              "False"
            ]
          },
          "execution_count": 40,
          "metadata": {},
          "output_type": "execute_result"
        }
      ],
      "source": [
        "D.has_edge(2,1)"
      ]
    },
    {
      "cell_type": "markdown",
      "metadata": {},
      "source": [
        "有向グラフのノードは、対称的な関係の”neighbors”の代わりに、先行ノード”in-neighbors”と後続ノード（\"out-neighbors\"）がある。\n"
      ]
    },
    {
      "cell_type": "code",
      "execution_count": 41,
      "metadata": {},
      "outputs": [
        {
          "name": "stdout",
          "output_type": "stream",
          "text": [
            "Successors of 2: [3]\n",
            "Predecessors of 2: [1, 3, 4]\n"
          ]
        }
      ],
      "source": [
        "print('Successors of 2:', list(D.successors(2)))\n",
        "\n",
        "print('Predecessors of 2:', list(D.predecessors(2)))"
      ]
    },
    {
      "cell_type": "markdown",
      "metadata": {},
      "source": [
        "\n",
        "有向グラフには入次数と出次数の概念があり、所与のノードに入ってくるエッジ数とそのノードから出ていくエッジ数をそれぞれ表す。\n"
      ]
    },
    {
      "cell_type": "code",
      "execution_count": 42,
      "metadata": {},
      "outputs": [
        {
          "data": {
            "text/plain": [
              "3"
            ]
          },
          "execution_count": 42,
          "metadata": {},
          "output_type": "execute_result"
        }
      ],
      "source": [
        "D.in_degree(2)"
      ]
    },
    {
      "cell_type": "code",
      "execution_count": 43,
      "metadata": {},
      "outputs": [
        {
          "data": {
            "text/plain": [
              "1"
            ]
          },
          "execution_count": 43,
          "metadata": {},
          "output_type": "execute_result"
        }
      ],
      "source": [
        "D.out_degree(2)"
      ]
    },
    {
      "cell_type": "markdown",
      "metadata": {},
      "source": [
        "\n",
        "### 注意事項\n",
        "\n",
        "NetworkX 2 以降、有向グラフの `.degree()` メソッドは合計次数 (入次数と出次数) を返す。ただし、少し紛らわしい命名法であるが、 `neighbors` メソッドは `successors` の同義語であり、指定されたノードの後続ノードのみ与える。エッジをたどって特定のノードから到達可能なすべてのノードを `neighbors` と見なす場合、これは理にかなっている一方、先行ノードであり後続ノードでもある隣接ノードのシーケンスを返す `.neighbors()` メゾットと混同しないでほしい。\n"
      ]
    },
    {
      "cell_type": "code",
      "execution_count": 44,
      "metadata": {},
      "outputs": [
        {
          "data": {
            "text/plain": [
              "4"
            ]
          },
          "execution_count": 44,
          "metadata": {},
          "output_type": "execute_result"
        }
      ],
      "source": [
        "D.degree(2)"
      ]
    },
    {
      "cell_type": "code",
      "execution_count": null,
      "metadata": {},
      "outputs": [],
      "source": []
    },
    {
      "cell_type": "markdown",
      "metadata": {},
      "source": []
    },
    {
      "cell_type": "code",
      "execution_count": 45,
      "metadata": {},
      "outputs": [
        {
          "name": "stdout",
          "output_type": "stream",
          "text": [
            "Successors of 2: [3]\n",
            "\"Neighbors\" of 2: [3]\n"
          ]
        }
      ],
      "source": [
        "print('Successors of 2:', list(D.successors(2)))\n",
        "print('\"Neighbors\" of 2:', list(D.neighbors(2)))"
      ]
    }
  ],
  "metadata": {
    "kernelspec": {
      "display_name": "base",
      "language": "python",
      "name": "python3"
    },
    "language_info": {
      "codemirror_mode": {
        "name": "ipython",
        "version": 3
      },
      "file_extension": ".py",
      "mimetype": "text/x-python",
      "name": "python",
      "nbconvert_exporter": "python",
      "pygments_lexer": "ipython3",
      "version": "3.9.12"
    }
  },
  "nbformat": 4,
  "nbformat_minor": 1
}
